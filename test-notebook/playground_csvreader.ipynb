{
 "cells": [
  {
   "cell_type": "code",
   "execution_count": 10,
   "metadata": {
    "collapsed": false
   },
   "outputs": [
    {
     "name": "stdout",
     "output_type": "stream",
     "text": [
      "/mnt/hgfs/tessonec/Development/PySPG/test-notebook\n",
      "The autoreload extension is already loaded. To reload it, use:\n",
      "  %reload_ext autoreload\n"
     ]
    }
   ],
   "source": [
    "%matplotlib notebook\n",
    "%cd /home/tessonec/devel/PySPG/test-notebook\n",
    "\n",
    "%load_ext autoreload\n",
    "%autoreload 2\n",
    "import pandas as pd\n",
    "import sys\n",
    "sys.path.append(\"/mnt/hgfs/tessonec/Development/PySPG\")\n",
    "\n",
    "import spg.utils as spgu\n",
    "from spg.plot.notebook import SPGDataLoader, BaseDataLoader, SPGInteractivePlotter"
   ]
  },
  {
   "cell_type": "code",
   "execution_count": 15,
   "metadata": {
    "collapsed": false
   },
   "outputs": [
    {
     "name": "stdout",
     "output_type": "stream",
     "text": [
      "column_names: ['simulating_days', 'network_topology', 'num_nodes', 'pow_target_spacing', 'expo', 'nodes_conn', 'net_delay', 'max_branch', 'num_branch', 'orph_blc_rate', 'num_blocks', 'num_onchain_blocks', 'num_orph_blc', 'mean_prop_time', 'max_prop_time', 'repetition_time']\n",
      "non-constant columns: ['num_nodes', 'nodes_conn', 'net_delay', 'max_branch', 'num_branch', 'orph_blc_rate', 'num_blocks', 'num_onchain_blocks', 'num_orph_blc', 'mean_prop_time', 'max_prop_time', 'repetition_time']\n"
     ]
    }
   ],
   "source": [
    "class CSVReader(BaseDataLoader):\n",
    "    \n",
    "    def __init__(self, ds_filename, output_columns = [], settings = {} ):\n",
    "        self.full_dataframe = pd.read_csv(ds_filename)\n",
    "        print \"column_names:\", [ k for k in self.full_dataframe.keys() ]\n",
    "        \n",
    "        self.output_columns = output_columns\n",
    "        \n",
    "        self.__initialise_independent_elements()\n",
    "        print \"non-constant columns:\", self.variables\n",
    "\n",
    "        self.independent_var =  self.variables[-1]\n",
    "        \n",
    "        try:\n",
    "            self.coalesced_vars = [ self.variables[-2] ]\n",
    "        except:\n",
    "            self.coalesced_vars = []\n",
    "        try:\n",
    "            self.separated_vars = self.variables[:-2]\n",
    "        except:\n",
    "            self.separated_vars = []\n",
    "\n",
    "\n",
    "        self.data = self.full_dataframe[self.variables + self.output_columns]\n",
    "        \n",
    "    def __initialise_independent_elements(self):        \n",
    "        self.constants = {}\n",
    "        self.variables = []\n",
    "        for vn in self.full_dataframe.keys():\n",
    "            if vn in self.output_columns:\n",
    "                continue\n",
    "            all_values = self.full_dataframe[vn].unique()\n",
    "            if len(all_values) > 1: \n",
    "                self.variables.append( vn )\n",
    "            else:\n",
    "                self.constants[vn] = self.full_dataframe[vn].unique()[0]\n",
    "\n",
    "    \n",
    "    def configure_vars(self, separated_vars, coalesced_vars, independent_var, recalculate_output_columns = True):\n",
    "        all_vars = separated_vars + coalesced_vars + [ independent_var ]\n",
    "        \n",
    "        # No unknown columns are present\n",
    "        assert len( set( all_vars ) - set( self.data ) ) == 0\n",
    "        # All sets are disjoint\n",
    "        assert independent_var not in separated_vars\n",
    "        assert independent_var not in coalesced_vars\n",
    "        assert len( set(separated_vars).intersection( coalesced_vars ) ) ==  0\n",
    "        \n",
    "        self.separated_vars = separated_vars\n",
    "        self.coalesced_vars = coalesced_vars\n",
    "        self.independent_var = independent_var\n",
    "        \n",
    "        self.variables = all_vars\n",
    "        \n",
    "        if recalculate_output_columns:\n",
    "            self.output_columns = [ kn for kn in self.data.keys()  if kn not in self.variables] \n",
    "        \n",
    "        self.__initialise_independent_elements()\n",
    "        \n",
    "    \n",
    "        \n",
    "dip = CSVReader(\"psetting_t3_results.csv\")"
   ]
  },
  {
   "cell_type": "code",
   "execution_count": 6,
   "metadata": {
    "collapsed": false
   },
   "outputs": [
    {
     "data": {
      "text/plain": [
       "{1}"
      ]
     },
     "execution_count": 6,
     "metadata": {},
     "output_type": "execute_result"
    }
   ],
   "source": [
    "dip.configure_vars()"
   ]
  },
  {
   "cell_type": "code",
   "execution_count": null,
   "metadata": {
    "collapsed": true
   },
   "outputs": [],
   "source": []
  }
 ],
 "metadata": {
  "kernelspec": {
   "display_name": "Python 2",
   "language": "python",
   "name": "python2"
  },
  "language_info": {
   "codemirror_mode": {
    "name": "ipython",
    "version": 2
   },
   "file_extension": ".py",
   "mimetype": "text/x-python",
   "name": "python",
   "nbconvert_exporter": "python",
   "pygments_lexer": "ipython2",
   "version": "2.7.12+"
  }
 },
 "nbformat": 4,
 "nbformat_minor": 2
}
