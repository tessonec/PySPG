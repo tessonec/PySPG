{
 "cells": [
  {
   "cell_type": "code",
   "execution_count": 10,
   "metadata": {
    "collapsed": false
   },
   "outputs": [
    {
     "name": "stdout",
     "output_type": "stream",
     "text": [
      "/mnt/hgfs/tessonec/Development/PySPG/test-notebook\n",
      "The autoreload extension is already loaded. To reload it, use:\n",
      "  %reload_ext autoreload\n"
     ]
    }
   ],
   "source": [
    "%matplotlib notebook\n",
    "%cd /home/tessonec/devel/PySPG/test-notebook\n",
    "\n",
    "%load_ext autoreload\n",
    "%autoreload 2\n",
    "\n",
    "import sys\n",
    "sys.path.append(\"/mnt/hgfs/tessonec/Development/PySPG\")"
   ]
  },
  {
   "cell_type": "code",
   "execution_count": 19,
   "metadata": {
    "collapsed": false
   },
   "outputs": [
    {
     "name": "stderr",
     "output_type": "stream",
     "text": [
      "[__main__.py -   INF ] no 'input' file found: nakamoto_exp.py\n",
      "[__main__.py -   INF ] output columns: ['max_branch', 'num_branch', 'orph_blc_rate', 'num_blocks', 'num_onchain_blocks', 'num_orph_blc', 'mean_prop_time', 'max_prop_time', 'repetition_time']\n"
     ]
    }
   ],
   "source": [
    "from notebook import SPGDataLoader, InteractivePlotter\n",
    "splotter = SPGDataLoader(\"psetting_t1_exp.spg\")\n",
    "#splotter.setup_output_columns(['orph_blc_rate', 'mean_prop_time'])"
   ]
  },
  {
   "cell_type": "code",
   "execution_count": 20,
   "metadata": {
    "collapsed": false
   },
   "outputs": [
    {
     "name": "stdout",
     "output_type": "stream",
     "text": [
      "simulating_days :    1 values || 30 -- 30\n",
      "network_topology:    1 values || 1 -- 1\n",
      "num_nodes       :    2 values || 100 -- 1000\n",
      "pow_target_spacing:    1 values || 600 -- 600\n",
      "expo            :    1 values || 1.0 -- 1.0\n",
      "nodes_conn      :    6 values || 2 -- 64\n",
      "net_delay       :   36 values || 0.1 -- 145610.960606\n"
     ]
    }
   ],
   "source": [
    "splotter.describe_variables()"
   ]
  },
  {
   "cell_type": "code",
   "execution_count": 21,
   "metadata": {
    "collapsed": false
   },
   "outputs": [
    {
     "name": "stdout",
     "output_type": "stream",
     "text": [
      "variables      : simulating_days, network_topology, num_nodes, pow_target_spacing, expo, nodes_conn, net_delay\n",
      "  + separated  : ['simulating_days', 'network_topology', 'num_nodes', 'pow_target_spacing', 'expo']\n",
      "  + coalesced  : ['nodes_conn']\n",
      "  + independent: net_delay\n",
      "output columns : max_branch, num_branch, orph_blc_rate, num_blocks, num_onchain_blocks, num_orph_blc, mean_prop_time, max_prop_time, repetition_time \n"
     ]
    }
   ],
   "source": [
    "splotter.describe_configuration()"
   ]
  },
  {
   "cell_type": "code",
   "execution_count": 22,
   "metadata": {
    "collapsed": false
   },
   "outputs": [
    {
     "data": {
      "application/javascript": [
       "/* Put everything inside the global mpl namespace */\n",
       "window.mpl = {};\n",
       "\n",
       "mpl.get_websocket_type = function() {\n",
       "    if (typeof(WebSocket) !== 'undefined') {\n",
       "        return WebSocket;\n",
       "    } else if (typeof(MozWebSocket) !== 'undefined') {\n",
       "        return MozWebSocket;\n",
       "    } else {\n",
       "        alert('Your browser does not have WebSocket support.' +\n",
       "              'Please try Chrome, Safari or Firefox ≥ 6. ' +\n",
       "              'Firefox 4 and 5 are also supported but you ' +\n",
       "              'have to enable WebSockets in about:config.');\n",
       "    };\n",
       "}\n",
       "\n",
       "mpl.figure = function(figure_id, websocket, ondownload, parent_element) {\n",
       "    this.id = figure_id;\n",
       "\n",
       "    this.ws = websocket;\n",
       "\n",
       "    this.supports_binary = (this.ws.binaryType != undefined);\n",
       "\n",
       "    if (!this.supports_binary) {\n",
       "        var warnings = document.getElementById(\"mpl-warnings\");\n",
       "        if (warnings) {\n",
       "            warnings.style.display = 'block';\n",
       "            warnings.textContent = (\n",
       "                \"This browser does not support binary websocket messages. \" +\n",
       "                    \"Performance may be slow.\");\n",
       "        }\n",
       "    }\n",
       "\n",
       "    this.imageObj = new Image();\n",
       "\n",
       "    this.context = undefined;\n",
       "    this.message = undefined;\n",
       "    this.canvas = undefined;\n",
       "    this.rubberband_canvas = undefined;\n",
       "    this.rubberband_context = undefined;\n",
       "    this.format_dropdown = undefined;\n",
       "\n",
       "    this.image_mode = 'full';\n",
       "\n",
       "    this.root = $('<div/>');\n",
       "    this._root_extra_style(this.root)\n",
       "    this.root.attr('style', 'display: inline-block');\n",
       "\n",
       "    $(parent_element).append(this.root);\n",
       "\n",
       "    this._init_header(this);\n",
       "    this._init_canvas(this);\n",
       "    this._init_toolbar(this);\n",
       "\n",
       "    var fig = this;\n",
       "\n",
       "    this.waiting = false;\n",
       "\n",
       "    this.ws.onopen =  function () {\n",
       "            fig.send_message(\"supports_binary\", {value: fig.supports_binary});\n",
       "            fig.send_message(\"send_image_mode\", {});\n",
       "            fig.send_message(\"refresh\", {});\n",
       "        }\n",
       "\n",
       "    this.imageObj.onload = function() {\n",
       "            if (fig.image_mode == 'full') {\n",
       "                // Full images could contain transparency (where diff images\n",
       "                // almost always do), so we need to clear the canvas so that\n",
       "                // there is no ghosting.\n",
       "                fig.context.clearRect(0, 0, fig.canvas.width, fig.canvas.height);\n",
       "            }\n",
       "            fig.context.drawImage(fig.imageObj, 0, 0);\n",
       "        };\n",
       "\n",
       "    this.imageObj.onunload = function() {\n",
       "        this.ws.close();\n",
       "    }\n",
       "\n",
       "    this.ws.onmessage = this._make_on_message_function(this);\n",
       "\n",
       "    this.ondownload = ondownload;\n",
       "}\n",
       "\n",
       "mpl.figure.prototype._init_header = function() {\n",
       "    var titlebar = $(\n",
       "        '<div class=\"ui-dialog-titlebar ui-widget-header ui-corner-all ' +\n",
       "        'ui-helper-clearfix\"/>');\n",
       "    var titletext = $(\n",
       "        '<div class=\"ui-dialog-title\" style=\"width: 100%; ' +\n",
       "        'text-align: center; padding: 3px;\"/>');\n",
       "    titlebar.append(titletext)\n",
       "    this.root.append(titlebar);\n",
       "    this.header = titletext[0];\n",
       "}\n",
       "\n",
       "\n",
       "\n",
       "mpl.figure.prototype._canvas_extra_style = function(canvas_div) {\n",
       "\n",
       "}\n",
       "\n",
       "\n",
       "mpl.figure.prototype._root_extra_style = function(canvas_div) {\n",
       "\n",
       "}\n",
       "\n",
       "mpl.figure.prototype._init_canvas = function() {\n",
       "    var fig = this;\n",
       "\n",
       "    var canvas_div = $('<div/>');\n",
       "\n",
       "    canvas_div.attr('style', 'position: relative; clear: both; outline: 0');\n",
       "\n",
       "    function canvas_keyboard_event(event) {\n",
       "        return fig.key_event(event, event['data']);\n",
       "    }\n",
       "\n",
       "    canvas_div.keydown('key_press', canvas_keyboard_event);\n",
       "    canvas_div.keyup('key_release', canvas_keyboard_event);\n",
       "    this.canvas_div = canvas_div\n",
       "    this._canvas_extra_style(canvas_div)\n",
       "    this.root.append(canvas_div);\n",
       "\n",
       "    var canvas = $('<canvas/>');\n",
       "    canvas.addClass('mpl-canvas');\n",
       "    canvas.attr('style', \"left: 0; top: 0; z-index: 0; outline: 0\")\n",
       "\n",
       "    this.canvas = canvas[0];\n",
       "    this.context = canvas[0].getContext(\"2d\");\n",
       "\n",
       "    var rubberband = $('<canvas/>');\n",
       "    rubberband.attr('style', \"position: absolute; left: 0; top: 0; z-index: 1;\")\n",
       "\n",
       "    var pass_mouse_events = true;\n",
       "\n",
       "    canvas_div.resizable({\n",
       "        start: function(event, ui) {\n",
       "            pass_mouse_events = false;\n",
       "        },\n",
       "        resize: function(event, ui) {\n",
       "            fig.request_resize(ui.size.width, ui.size.height);\n",
       "        },\n",
       "        stop: function(event, ui) {\n",
       "            pass_mouse_events = true;\n",
       "            fig.request_resize(ui.size.width, ui.size.height);\n",
       "        },\n",
       "    });\n",
       "\n",
       "    function mouse_event_fn(event) {\n",
       "        if (pass_mouse_events)\n",
       "            return fig.mouse_event(event, event['data']);\n",
       "    }\n",
       "\n",
       "    rubberband.mousedown('button_press', mouse_event_fn);\n",
       "    rubberband.mouseup('button_release', mouse_event_fn);\n",
       "    // Throttle sequential mouse events to 1 every 20ms.\n",
       "    rubberband.mousemove('motion_notify', mouse_event_fn);\n",
       "\n",
       "    rubberband.mouseenter('figure_enter', mouse_event_fn);\n",
       "    rubberband.mouseleave('figure_leave', mouse_event_fn);\n",
       "\n",
       "    canvas_div.on(\"wheel\", function (event) {\n",
       "        event = event.originalEvent;\n",
       "        event['data'] = 'scroll'\n",
       "        if (event.deltaY < 0) {\n",
       "            event.step = 1;\n",
       "        } else {\n",
       "            event.step = -1;\n",
       "        }\n",
       "        mouse_event_fn(event);\n",
       "    });\n",
       "\n",
       "    canvas_div.append(canvas);\n",
       "    canvas_div.append(rubberband);\n",
       "\n",
       "    this.rubberband = rubberband;\n",
       "    this.rubberband_canvas = rubberband[0];\n",
       "    this.rubberband_context = rubberband[0].getContext(\"2d\");\n",
       "    this.rubberband_context.strokeStyle = \"#000000\";\n",
       "\n",
       "    this._resize_canvas = function(width, height) {\n",
       "        // Keep the size of the canvas, canvas container, and rubber band\n",
       "        // canvas in synch.\n",
       "        canvas_div.css('width', width)\n",
       "        canvas_div.css('height', height)\n",
       "\n",
       "        canvas.attr('width', width);\n",
       "        canvas.attr('height', height);\n",
       "\n",
       "        rubberband.attr('width', width);\n",
       "        rubberband.attr('height', height);\n",
       "    }\n",
       "\n",
       "    // Set the figure to an initial 600x600px, this will subsequently be updated\n",
       "    // upon first draw.\n",
       "    this._resize_canvas(600, 600);\n",
       "\n",
       "    // Disable right mouse context menu.\n",
       "    $(this.rubberband_canvas).bind(\"contextmenu\",function(e){\n",
       "        return false;\n",
       "    });\n",
       "\n",
       "    function set_focus () {\n",
       "        canvas.focus();\n",
       "        canvas_div.focus();\n",
       "    }\n",
       "\n",
       "    window.setTimeout(set_focus, 100);\n",
       "}\n",
       "\n",
       "mpl.figure.prototype._init_toolbar = function() {\n",
       "    var fig = this;\n",
       "\n",
       "    var nav_element = $('<div/>')\n",
       "    nav_element.attr('style', 'width: 100%');\n",
       "    this.root.append(nav_element);\n",
       "\n",
       "    // Define a callback function for later on.\n",
       "    function toolbar_event(event) {\n",
       "        return fig.toolbar_button_onclick(event['data']);\n",
       "    }\n",
       "    function toolbar_mouse_event(event) {\n",
       "        return fig.toolbar_button_onmouseover(event['data']);\n",
       "    }\n",
       "\n",
       "    for(var toolbar_ind in mpl.toolbar_items) {\n",
       "        var name = mpl.toolbar_items[toolbar_ind][0];\n",
       "        var tooltip = mpl.toolbar_items[toolbar_ind][1];\n",
       "        var image = mpl.toolbar_items[toolbar_ind][2];\n",
       "        var method_name = mpl.toolbar_items[toolbar_ind][3];\n",
       "\n",
       "        if (!name) {\n",
       "            // put a spacer in here.\n",
       "            continue;\n",
       "        }\n",
       "        var button = $('<button/>');\n",
       "        button.addClass('ui-button ui-widget ui-state-default ui-corner-all ' +\n",
       "                        'ui-button-icon-only');\n",
       "        button.attr('role', 'button');\n",
       "        button.attr('aria-disabled', 'false');\n",
       "        button.click(method_name, toolbar_event);\n",
       "        button.mouseover(tooltip, toolbar_mouse_event);\n",
       "\n",
       "        var icon_img = $('<span/>');\n",
       "        icon_img.addClass('ui-button-icon-primary ui-icon');\n",
       "        icon_img.addClass(image);\n",
       "        icon_img.addClass('ui-corner-all');\n",
       "\n",
       "        var tooltip_span = $('<span/>');\n",
       "        tooltip_span.addClass('ui-button-text');\n",
       "        tooltip_span.html(tooltip);\n",
       "\n",
       "        button.append(icon_img);\n",
       "        button.append(tooltip_span);\n",
       "\n",
       "        nav_element.append(button);\n",
       "    }\n",
       "\n",
       "    var fmt_picker_span = $('<span/>');\n",
       "\n",
       "    var fmt_picker = $('<select/>');\n",
       "    fmt_picker.addClass('mpl-toolbar-option ui-widget ui-widget-content');\n",
       "    fmt_picker_span.append(fmt_picker);\n",
       "    nav_element.append(fmt_picker_span);\n",
       "    this.format_dropdown = fmt_picker[0];\n",
       "\n",
       "    for (var ind in mpl.extensions) {\n",
       "        var fmt = mpl.extensions[ind];\n",
       "        var option = $(\n",
       "            '<option/>', {selected: fmt === mpl.default_extension}).html(fmt);\n",
       "        fmt_picker.append(option)\n",
       "    }\n",
       "\n",
       "    // Add hover states to the ui-buttons\n",
       "    $( \".ui-button\" ).hover(\n",
       "        function() { $(this).addClass(\"ui-state-hover\");},\n",
       "        function() { $(this).removeClass(\"ui-state-hover\");}\n",
       "    );\n",
       "\n",
       "    var status_bar = $('<span class=\"mpl-message\"/>');\n",
       "    nav_element.append(status_bar);\n",
       "    this.message = status_bar[0];\n",
       "}\n",
       "\n",
       "mpl.figure.prototype.request_resize = function(x_pixels, y_pixels) {\n",
       "    // Request matplotlib to resize the figure. Matplotlib will then trigger a resize in the client,\n",
       "    // which will in turn request a refresh of the image.\n",
       "    this.send_message('resize', {'width': x_pixels, 'height': y_pixels});\n",
       "}\n",
       "\n",
       "mpl.figure.prototype.send_message = function(type, properties) {\n",
       "    properties['type'] = type;\n",
       "    properties['figure_id'] = this.id;\n",
       "    this.ws.send(JSON.stringify(properties));\n",
       "}\n",
       "\n",
       "mpl.figure.prototype.send_draw_message = function() {\n",
       "    if (!this.waiting) {\n",
       "        this.waiting = true;\n",
       "        this.ws.send(JSON.stringify({type: \"draw\", figure_id: this.id}));\n",
       "    }\n",
       "}\n",
       "\n",
       "\n",
       "mpl.figure.prototype.handle_save = function(fig, msg) {\n",
       "    var format_dropdown = fig.format_dropdown;\n",
       "    var format = format_dropdown.options[format_dropdown.selectedIndex].value;\n",
       "    fig.ondownload(fig, format);\n",
       "}\n",
       "\n",
       "\n",
       "mpl.figure.prototype.handle_resize = function(fig, msg) {\n",
       "    var size = msg['size'];\n",
       "    if (size[0] != fig.canvas.width || size[1] != fig.canvas.height) {\n",
       "        fig._resize_canvas(size[0], size[1]);\n",
       "        fig.send_message(\"refresh\", {});\n",
       "    };\n",
       "}\n",
       "\n",
       "mpl.figure.prototype.handle_rubberband = function(fig, msg) {\n",
       "    var x0 = msg['x0'];\n",
       "    var y0 = fig.canvas.height - msg['y0'];\n",
       "    var x1 = msg['x1'];\n",
       "    var y1 = fig.canvas.height - msg['y1'];\n",
       "    x0 = Math.floor(x0) + 0.5;\n",
       "    y0 = Math.floor(y0) + 0.5;\n",
       "    x1 = Math.floor(x1) + 0.5;\n",
       "    y1 = Math.floor(y1) + 0.5;\n",
       "    var min_x = Math.min(x0, x1);\n",
       "    var min_y = Math.min(y0, y1);\n",
       "    var width = Math.abs(x1 - x0);\n",
       "    var height = Math.abs(y1 - y0);\n",
       "\n",
       "    fig.rubberband_context.clearRect(\n",
       "        0, 0, fig.canvas.width, fig.canvas.height);\n",
       "\n",
       "    fig.rubberband_context.strokeRect(min_x, min_y, width, height);\n",
       "}\n",
       "\n",
       "mpl.figure.prototype.handle_figure_label = function(fig, msg) {\n",
       "    // Updates the figure title.\n",
       "    fig.header.textContent = msg['label'];\n",
       "}\n",
       "\n",
       "mpl.figure.prototype.handle_cursor = function(fig, msg) {\n",
       "    var cursor = msg['cursor'];\n",
       "    switch(cursor)\n",
       "    {\n",
       "    case 0:\n",
       "        cursor = 'pointer';\n",
       "        break;\n",
       "    case 1:\n",
       "        cursor = 'default';\n",
       "        break;\n",
       "    case 2:\n",
       "        cursor = 'crosshair';\n",
       "        break;\n",
       "    case 3:\n",
       "        cursor = 'move';\n",
       "        break;\n",
       "    }\n",
       "    fig.rubberband_canvas.style.cursor = cursor;\n",
       "}\n",
       "\n",
       "mpl.figure.prototype.handle_message = function(fig, msg) {\n",
       "    fig.message.textContent = msg['message'];\n",
       "}\n",
       "\n",
       "mpl.figure.prototype.handle_draw = function(fig, msg) {\n",
       "    // Request the server to send over a new figure.\n",
       "    fig.send_draw_message();\n",
       "}\n",
       "\n",
       "mpl.figure.prototype.handle_image_mode = function(fig, msg) {\n",
       "    fig.image_mode = msg['mode'];\n",
       "}\n",
       "\n",
       "mpl.figure.prototype.updated_canvas_event = function() {\n",
       "    // Called whenever the canvas gets updated.\n",
       "    this.send_message(\"ack\", {});\n",
       "}\n",
       "\n",
       "// A function to construct a web socket function for onmessage handling.\n",
       "// Called in the figure constructor.\n",
       "mpl.figure.prototype._make_on_message_function = function(fig) {\n",
       "    return function socket_on_message(evt) {\n",
       "        if (evt.data instanceof Blob) {\n",
       "            /* FIXME: We get \"Resource interpreted as Image but\n",
       "             * transferred with MIME type text/plain:\" errors on\n",
       "             * Chrome.  But how to set the MIME type?  It doesn't seem\n",
       "             * to be part of the websocket stream */\n",
       "            evt.data.type = \"image/png\";\n",
       "\n",
       "            /* Free the memory for the previous frames */\n",
       "            if (fig.imageObj.src) {\n",
       "                (window.URL || window.webkitURL).revokeObjectURL(\n",
       "                    fig.imageObj.src);\n",
       "            }\n",
       "\n",
       "            fig.imageObj.src = (window.URL || window.webkitURL).createObjectURL(\n",
       "                evt.data);\n",
       "            fig.updated_canvas_event();\n",
       "            fig.waiting = false;\n",
       "            return;\n",
       "        }\n",
       "        else if (typeof evt.data === 'string' && evt.data.slice(0, 21) == \"data:image/png;base64\") {\n",
       "            fig.imageObj.src = evt.data;\n",
       "            fig.updated_canvas_event();\n",
       "            fig.waiting = false;\n",
       "            return;\n",
       "        }\n",
       "\n",
       "        var msg = JSON.parse(evt.data);\n",
       "        var msg_type = msg['type'];\n",
       "\n",
       "        // Call the  \"handle_{type}\" callback, which takes\n",
       "        // the figure and JSON message as its only arguments.\n",
       "        try {\n",
       "            var callback = fig[\"handle_\" + msg_type];\n",
       "        } catch (e) {\n",
       "            console.log(\"No handler for the '\" + msg_type + \"' message type: \", msg);\n",
       "            return;\n",
       "        }\n",
       "\n",
       "        if (callback) {\n",
       "            try {\n",
       "                // console.log(\"Handling '\" + msg_type + \"' message: \", msg);\n",
       "                callback(fig, msg);\n",
       "            } catch (e) {\n",
       "                console.log(\"Exception inside the 'handler_\" + msg_type + \"' callback:\", e, e.stack, msg);\n",
       "            }\n",
       "        }\n",
       "    };\n",
       "}\n",
       "\n",
       "// from http://stackoverflow.com/questions/1114465/getting-mouse-location-in-canvas\n",
       "mpl.findpos = function(e) {\n",
       "    //this section is from http://www.quirksmode.org/js/events_properties.html\n",
       "    var targ;\n",
       "    if (!e)\n",
       "        e = window.event;\n",
       "    if (e.target)\n",
       "        targ = e.target;\n",
       "    else if (e.srcElement)\n",
       "        targ = e.srcElement;\n",
       "    if (targ.nodeType == 3) // defeat Safari bug\n",
       "        targ = targ.parentNode;\n",
       "\n",
       "    // jQuery normalizes the pageX and pageY\n",
       "    // pageX,Y are the mouse positions relative to the document\n",
       "    // offset() returns the position of the element relative to the document\n",
       "    var x = e.pageX - $(targ).offset().left;\n",
       "    var y = e.pageY - $(targ).offset().top;\n",
       "\n",
       "    return {\"x\": x, \"y\": y};\n",
       "};\n",
       "\n",
       "/*\n",
       " * return a copy of an object with only non-object keys\n",
       " * we need this to avoid circular references\n",
       " * http://stackoverflow.com/a/24161582/3208463\n",
       " */\n",
       "function simpleKeys (original) {\n",
       "  return Object.keys(original).reduce(function (obj, key) {\n",
       "    if (typeof original[key] !== 'object')\n",
       "        obj[key] = original[key]\n",
       "    return obj;\n",
       "  }, {});\n",
       "}\n",
       "\n",
       "mpl.figure.prototype.mouse_event = function(event, name) {\n",
       "    var canvas_pos = mpl.findpos(event)\n",
       "\n",
       "    if (name === 'button_press')\n",
       "    {\n",
       "        this.canvas.focus();\n",
       "        this.canvas_div.focus();\n",
       "    }\n",
       "\n",
       "    var x = canvas_pos.x;\n",
       "    var y = canvas_pos.y;\n",
       "\n",
       "    this.send_message(name, {x: x, y: y, button: event.button,\n",
       "                             step: event.step,\n",
       "                             guiEvent: simpleKeys(event)});\n",
       "\n",
       "    /* This prevents the web browser from automatically changing to\n",
       "     * the text insertion cursor when the button is pressed.  We want\n",
       "     * to control all of the cursor setting manually through the\n",
       "     * 'cursor' event from matplotlib */\n",
       "    event.preventDefault();\n",
       "    return false;\n",
       "}\n",
       "\n",
       "mpl.figure.prototype._key_event_extra = function(event, name) {\n",
       "    // Handle any extra behaviour associated with a key event\n",
       "}\n",
       "\n",
       "mpl.figure.prototype.key_event = function(event, name) {\n",
       "\n",
       "    // Prevent repeat events\n",
       "    if (name == 'key_press')\n",
       "    {\n",
       "        if (event.which === this._key)\n",
       "            return;\n",
       "        else\n",
       "            this._key = event.which;\n",
       "    }\n",
       "    if (name == 'key_release')\n",
       "        this._key = null;\n",
       "\n",
       "    var value = '';\n",
       "    if (event.ctrlKey && event.which != 17)\n",
       "        value += \"ctrl+\";\n",
       "    if (event.altKey && event.which != 18)\n",
       "        value += \"alt+\";\n",
       "    if (event.shiftKey && event.which != 16)\n",
       "        value += \"shift+\";\n",
       "\n",
       "    value += 'k';\n",
       "    value += event.which.toString();\n",
       "\n",
       "    this._key_event_extra(event, name);\n",
       "\n",
       "    this.send_message(name, {key: value,\n",
       "                             guiEvent: simpleKeys(event)});\n",
       "    return false;\n",
       "}\n",
       "\n",
       "mpl.figure.prototype.toolbar_button_onclick = function(name) {\n",
       "    if (name == 'download') {\n",
       "        this.handle_save(this, null);\n",
       "    } else {\n",
       "        this.send_message(\"toolbar_button\", {name: name});\n",
       "    }\n",
       "};\n",
       "\n",
       "mpl.figure.prototype.toolbar_button_onmouseover = function(tooltip) {\n",
       "    this.message.textContent = tooltip;\n",
       "};\n",
       "mpl.toolbar_items = [[\"Home\", \"Reset original view\", \"fa fa-home icon-home\", \"home\"], [\"Back\", \"Back to  previous view\", \"fa fa-arrow-left icon-arrow-left\", \"back\"], [\"Forward\", \"Forward to next view\", \"fa fa-arrow-right icon-arrow-right\", \"forward\"], [\"\", \"\", \"\", \"\"], [\"Pan\", \"Pan axes with left mouse, zoom with right\", \"fa fa-arrows icon-move\", \"pan\"], [\"Zoom\", \"Zoom to rectangle\", \"fa fa-square-o icon-check-empty\", \"zoom\"], [\"\", \"\", \"\", \"\"], [\"Download\", \"Download plot\", \"fa fa-floppy-o icon-save\", \"download\"]];\n",
       "\n",
       "mpl.extensions = [\"eps\", \"jpeg\", \"pdf\", \"png\", \"ps\", \"raw\", \"svg\", \"tif\"];\n",
       "\n",
       "mpl.default_extension = \"png\";var comm_websocket_adapter = function(comm) {\n",
       "    // Create a \"websocket\"-like object which calls the given IPython comm\n",
       "    // object with the appropriate methods. Currently this is a non binary\n",
       "    // socket, so there is still some room for performance tuning.\n",
       "    var ws = {};\n",
       "\n",
       "    ws.close = function() {\n",
       "        comm.close()\n",
       "    };\n",
       "    ws.send = function(m) {\n",
       "        //console.log('sending', m);\n",
       "        comm.send(m);\n",
       "    };\n",
       "    // Register the callback with on_msg.\n",
       "    comm.on_msg(function(msg) {\n",
       "        //console.log('receiving', msg['content']['data'], msg);\n",
       "        // Pass the mpl event to the overriden (by mpl) onmessage function.\n",
       "        ws.onmessage(msg['content']['data'])\n",
       "    });\n",
       "    return ws;\n",
       "}\n",
       "\n",
       "mpl.mpl_figure_comm = function(comm, msg) {\n",
       "    // This is the function which gets called when the mpl process\n",
       "    // starts-up an IPython Comm through the \"matplotlib\" channel.\n",
       "\n",
       "    var id = msg.content.data.id;\n",
       "    // Get hold of the div created by the display call when the Comm\n",
       "    // socket was opened in Python.\n",
       "    var element = $(\"#\" + id);\n",
       "    var ws_proxy = comm_websocket_adapter(comm)\n",
       "\n",
       "    function ondownload(figure, format) {\n",
       "        window.open(figure.imageObj.src);\n",
       "    }\n",
       "\n",
       "    var fig = new mpl.figure(id, ws_proxy,\n",
       "                           ondownload,\n",
       "                           element.get(0));\n",
       "\n",
       "    // Call onopen now - mpl needs it, as it is assuming we've passed it a real\n",
       "    // web socket which is closed, not our websocket->open comm proxy.\n",
       "    ws_proxy.onopen();\n",
       "\n",
       "    fig.parent_element = element.get(0);\n",
       "    fig.cell_info = mpl.find_output_cell(\"<div id='\" + id + \"'></div>\");\n",
       "    if (!fig.cell_info) {\n",
       "        console.error(\"Failed to find cell for figure\", id, fig);\n",
       "        return;\n",
       "    }\n",
       "\n",
       "    var output_index = fig.cell_info[2]\n",
       "    var cell = fig.cell_info[0];\n",
       "\n",
       "};\n",
       "\n",
       "mpl.figure.prototype.handle_close = function(fig, msg) {\n",
       "    fig.root.unbind('remove')\n",
       "\n",
       "    // Update the output cell to use the data from the current canvas.\n",
       "    fig.push_to_output();\n",
       "    var dataURL = fig.canvas.toDataURL();\n",
       "    // Re-enable the keyboard manager in IPython - without this line, in FF,\n",
       "    // the notebook keyboard shortcuts fail.\n",
       "    IPython.keyboard_manager.enable()\n",
       "    $(fig.parent_element).html('<img src=\"' + dataURL + '\">');\n",
       "    fig.close_ws(fig, msg);\n",
       "}\n",
       "\n",
       "mpl.figure.prototype.close_ws = function(fig, msg){\n",
       "    fig.send_message('closing', msg);\n",
       "    // fig.ws.close()\n",
       "}\n",
       "\n",
       "mpl.figure.prototype.push_to_output = function(remove_interactive) {\n",
       "    // Turn the data on the canvas into data in the output cell.\n",
       "    var dataURL = this.canvas.toDataURL();\n",
       "    this.cell_info[1]['text/html'] = '<img src=\"' + dataURL + '\">';\n",
       "}\n",
       "\n",
       "mpl.figure.prototype.updated_canvas_event = function() {\n",
       "    // Tell IPython that the notebook contents must change.\n",
       "    IPython.notebook.set_dirty(true);\n",
       "    this.send_message(\"ack\", {});\n",
       "    var fig = this;\n",
       "    // Wait a second, then push the new image to the DOM so\n",
       "    // that it is saved nicely (might be nice to debounce this).\n",
       "    setTimeout(function () { fig.push_to_output() }, 1000);\n",
       "}\n",
       "\n",
       "mpl.figure.prototype._init_toolbar = function() {\n",
       "    var fig = this;\n",
       "\n",
       "    var nav_element = $('<div/>')\n",
       "    nav_element.attr('style', 'width: 100%');\n",
       "    this.root.append(nav_element);\n",
       "\n",
       "    // Define a callback function for later on.\n",
       "    function toolbar_event(event) {\n",
       "        return fig.toolbar_button_onclick(event['data']);\n",
       "    }\n",
       "    function toolbar_mouse_event(event) {\n",
       "        return fig.toolbar_button_onmouseover(event['data']);\n",
       "    }\n",
       "\n",
       "    for(var toolbar_ind in mpl.toolbar_items){\n",
       "        var name = mpl.toolbar_items[toolbar_ind][0];\n",
       "        var tooltip = mpl.toolbar_items[toolbar_ind][1];\n",
       "        var image = mpl.toolbar_items[toolbar_ind][2];\n",
       "        var method_name = mpl.toolbar_items[toolbar_ind][3];\n",
       "\n",
       "        if (!name) { continue; };\n",
       "\n",
       "        var button = $('<button class=\"btn btn-default\" href=\"#\" title=\"' + name + '\"><i class=\"fa ' + image + ' fa-lg\"></i></button>');\n",
       "        button.click(method_name, toolbar_event);\n",
       "        button.mouseover(tooltip, toolbar_mouse_event);\n",
       "        nav_element.append(button);\n",
       "    }\n",
       "\n",
       "    // Add the status bar.\n",
       "    var status_bar = $('<span class=\"mpl-message\" style=\"text-align:right; float: right;\"/>');\n",
       "    nav_element.append(status_bar);\n",
       "    this.message = status_bar[0];\n",
       "\n",
       "    // Add the close button to the window.\n",
       "    var buttongrp = $('<div class=\"btn-group inline pull-right\"></div>');\n",
       "    var button = $('<button class=\"btn btn-mini btn-primary\" href=\"#\" title=\"Stop Interaction\"><i class=\"fa fa-power-off icon-remove icon-large\"></i></button>');\n",
       "    button.click(function (evt) { fig.handle_close(fig, {}); } );\n",
       "    button.mouseover('Stop Interaction', toolbar_mouse_event);\n",
       "    buttongrp.append(button);\n",
       "    var titlebar = this.root.find($('.ui-dialog-titlebar'));\n",
       "    titlebar.prepend(buttongrp);\n",
       "}\n",
       "\n",
       "mpl.figure.prototype._root_extra_style = function(el){\n",
       "    var fig = this\n",
       "    el.on(\"remove\", function(){\n",
       "\tfig.close_ws(fig, {});\n",
       "    });\n",
       "}\n",
       "\n",
       "mpl.figure.prototype._canvas_extra_style = function(el){\n",
       "    // this is important to make the div 'focusable\n",
       "    el.attr('tabindex', 0)\n",
       "    // reach out to IPython and tell the keyboard manager to turn it's self\n",
       "    // off when our div gets focus\n",
       "\n",
       "    // location in version 3\n",
       "    if (IPython.notebook.keyboard_manager) {\n",
       "        IPython.notebook.keyboard_manager.register_events(el);\n",
       "    }\n",
       "    else {\n",
       "        // location in version 2\n",
       "        IPython.keyboard_manager.register_events(el);\n",
       "    }\n",
       "\n",
       "}\n",
       "\n",
       "mpl.figure.prototype._key_event_extra = function(event, name) {\n",
       "    var manager = IPython.notebook.keyboard_manager;\n",
       "    if (!manager)\n",
       "        manager = IPython.keyboard_manager;\n",
       "\n",
       "    // Check for shift+enter\n",
       "    if (event.shiftKey && event.which == 13) {\n",
       "        this.canvas_div.blur();\n",
       "        event.shiftKey = false;\n",
       "        // Send a \"J\" for go to next cell\n",
       "        event.which = 74;\n",
       "        event.keyCode = 74;\n",
       "        manager.command_mode();\n",
       "        manager.handle_keydown(event);\n",
       "    }\n",
       "}\n",
       "\n",
       "mpl.figure.prototype.handle_save = function(fig, msg) {\n",
       "    fig.ondownload(fig, null);\n",
       "}\n",
       "\n",
       "\n",
       "mpl.find_output_cell = function(html_output) {\n",
       "    // Return the cell and output element which can be found *uniquely* in the notebook.\n",
       "    // Note - this is a bit hacky, but it is done because the \"notebook_saving.Notebook\"\n",
       "    // IPython event is triggered only after the cells have been serialised, which for\n",
       "    // our purposes (turning an active figure into a static one), is too late.\n",
       "    var cells = IPython.notebook.get_cells();\n",
       "    var ncells = cells.length;\n",
       "    for (var i=0; i<ncells; i++) {\n",
       "        var cell = cells[i];\n",
       "        if (cell.cell_type === 'code'){\n",
       "            for (var j=0; j<cell.output_area.outputs.length; j++) {\n",
       "                var data = cell.output_area.outputs[j];\n",
       "                if (data.data) {\n",
       "                    // IPython >= 3 moved mimebundle to data attribute of output\n",
       "                    data = data.data;\n",
       "                }\n",
       "                if (data['text/html'] == html_output) {\n",
       "                    return [cell, data, j];\n",
       "                }\n",
       "            }\n",
       "        }\n",
       "    }\n",
       "}\n",
       "\n",
       "// Register the function which deals with the matplotlib target/channel.\n",
       "// The kernel may be null if the page has been refreshed.\n",
       "if (IPython.notebook.kernel != null) {\n",
       "    IPython.notebook.kernel.comm_manager.register_target('matplotlib', mpl.mpl_figure_comm);\n",
       "}\n"
      ],
      "text/plain": [
       "<IPython.core.display.Javascript object>"
      ]
     },
     "metadata": {},
     "output_type": "display_data"
    },
    {
     "data": {
      "text/html": [
       "<img src=\"data:image/png;base64,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\">"
      ],
      "text/plain": [
       "<IPython.core.display.HTML object>"
      ]
     },
     "metadata": {},
     "output_type": "display_data"
    },
    {
     "name": "stdout",
     "output_type": "stream",
     "text": [
      "log\n"
     ]
    }
   ],
   "source": [
    "ip = InteractivePlotter( splotter )\n"
   ]
  },
  {
   "cell_type": "code",
   "execution_count": null,
   "metadata": {
    "collapsed": true
   },
   "outputs": [],
   "source": []
  }
 ],
 "metadata": {
  "kernelspec": {
   "display_name": "Python 2",
   "language": "python",
   "name": "python2"
  },
  "language_info": {
   "codemirror_mode": {
    "name": "ipython",
    "version": 2
   },
   "file_extension": ".py",
   "mimetype": "text/x-python",
   "name": "python",
   "nbconvert_exporter": "python",
   "pygments_lexer": "ipython2",
   "version": "2.7.12+"
  },
  "widgets": {
   "state": {
    "01a9f8e039034069a392589db2eb50be": {
     "views": [
      {
       "cell_index": 4
      }
     ]
    },
    "03d74d6433bb42ca8bca1c2df19177ab": {
     "views": [
      {
       "cell_index": 4
      }
     ]
    },
    "0496c002b74b467c8f1376d4d1a24556": {
     "views": [
      {
       "cell_index": 4
      }
     ]
    },
    "099430aa0809451c9fec0a7f52183046": {
     "views": [
      {
       "cell_index": 4
      }
     ]
    },
    "0b33d41edb9640c78298842ffdaf5624": {
     "views": [
      {
       "cell_index": 4
      }
     ]
    },
    "0bc9a94efcc34b398f7cfe1f4c3b22f8": {
     "views": [
      {
       "cell_index": 4
      }
     ]
    },
    "0c038410308f4981abc5e4a3cc648c97": {
     "views": [
      {
       "cell_index": 4
      }
     ]
    },
    "0fdee23e78e244c9aa32d3da5529c8a9": {
     "views": [
      {
       "cell_index": 4
      }
     ]
    },
    "110741e342b548f198f04647bdae7f0e": {
     "views": [
      {
       "cell_index": 4
      }
     ]
    },
    "112935e1bf414b728c99878adb31f0bf": {
     "views": [
      {
       "cell_index": 4
      }
     ]
    },
    "14a3aa24a9f94ee78c850213a28e3293": {
     "views": [
      {
       "cell_index": 4
      }
     ]
    },
    "14f5e0dc79054ef7bd52445595043bc0": {
     "views": [
      {
       "cell_index": 4
      }
     ]
    },
    "15ac937fa98d44cc81e88095acd2bb6b": {
     "views": [
      {
       "cell_index": 4
      }
     ]
    },
    "18c36cca86b14fab870acb12f7a9b440": {
     "views": [
      {
       "cell_index": 4
      }
     ]
    },
    "1ceedda603ac4442b0e9255c39305ab1": {
     "views": [
      {
       "cell_index": 4
      }
     ]
    },
    "1fd3def2c1b74bfba040e96a2ccdd811": {
     "views": [
      {
       "cell_index": 4
      }
     ]
    },
    "20abe206063e40f1921c876386f6979a": {
     "views": [
      {
       "cell_index": 4
      }
     ]
    },
    "22109a32b1534ab8bbdd97265d29d663": {
     "views": [
      {
       "cell_index": 4
      }
     ]
    },
    "2229f35341ae49b79145c84a1eb2cb90": {
     "views": [
      {
       "cell_index": 4
      }
     ]
    },
    "23a63ce894fa4d37af2c1bd322f794d7": {
     "views": [
      {
       "cell_index": 4
      }
     ]
    },
    "294ab2369d0e4bb38726b2e56aa8545d": {
     "views": [
      {
       "cell_index": 4
      }
     ]
    },
    "2a647d00f3144eabaa30ba067dea0ec6": {
     "views": [
      {
       "cell_index": 4
      }
     ]
    },
    "2c0ca880e3d04ccf883ee3a9ec999be4": {
     "views": [
      {
       "cell_index": 4
      }
     ]
    },
    "3382e17532a94d4b83eb74ffdf826062": {
     "views": [
      {
       "cell_index": 4
      }
     ]
    },
    "36e7652ae51e49ecb125e720eba25c6d": {
     "views": [
      {
       "cell_index": 4
      }
     ]
    },
    "398e1e87d47942aa99278e450da07af0": {
     "views": [
      {
       "cell_index": 4
      }
     ]
    },
    "3dc3d3d41f68406aa6a55798b4681bf7": {
     "views": [
      {
       "cell_index": 4
      }
     ]
    },
    "408e27fc5dab44d4b1a3ea88a191d3d4": {
     "views": [
      {
       "cell_index": 4
      }
     ]
    },
    "4272f44f89e14d7cb649eb79fe9a29b8": {
     "views": [
      {
       "cell_index": 4
      }
     ]
    },
    "44d4d6dc9ade412da4467f594ee9e91a": {
     "views": [
      {
       "cell_index": 4
      }
     ]
    },
    "4779f41ca787420187c0ddaa38ee320a": {
     "views": [
      {
       "cell_index": 4
      }
     ]
    },
    "497782f2bf5e4698ac213c64ece4143e": {
     "views": [
      {
       "cell_index": 4
      }
     ]
    },
    "4f3f4fef38b442f59ef4a248fbad10a2": {
     "views": [
      {
       "cell_index": 4
      }
     ]
    },
    "51fa559aded84b0daf31787db6fb8b43": {
     "views": [
      {
       "cell_index": 4
      }
     ]
    },
    "5446f5cd13054ec981d11443dbb93b58": {
     "views": [
      {
       "cell_index": 4
      }
     ]
    },
    "58bf4dd4dd53460f958208d15bdd15cf": {
     "views": [
      {
       "cell_index": 4
      }
     ]
    },
    "5c3460b8a95d41b5b9e916f6facc9729": {
     "views": [
      {
       "cell_index": 8
      }
     ]
    },
    "5c8866ed237d4a57a32e453ebd879b78": {
     "views": [
      {
       "cell_index": 4
      }
     ]
    },
    "60293318621642a8a6a9647faca61f6e": {
     "views": [
      {
       "cell_index": 4
      }
     ]
    },
    "60c19bba10fa433bb1a3fc91dc5af63f": {
     "views": [
      {
       "cell_index": 4
      }
     ]
    },
    "61e498d7968c417982958063d6070fe3": {
     "views": [
      {
       "cell_index": 4
      }
     ]
    },
    "62cef4efbede449f9d40b8da9566158e": {
     "views": [
      {
       "cell_index": 4
      }
     ]
    },
    "63cabb49c7124f4496a38f3ebe008f0f": {
     "views": [
      {
       "cell_index": 4
      }
     ]
    },
    "65580c92f4bc40698ba7c6ca78fcb55c": {
     "views": [
      {
       "cell_index": 4
      },
      {
       "cell_index": 4
      }
     ]
    },
    "6662eccf085449c19d01bab247a3e079": {
     "views": [
      {
       "cell_index": 4
      }
     ]
    },
    "68f6fd8901b8440f8f7d7b133577b8af": {
     "views": [
      {
       "cell_index": 4
      }
     ]
    },
    "704ef8888bb84a9a90b5a27a67a40ec2": {
     "views": [
      {
       "cell_index": 4
      }
     ]
    },
    "740ebab19fa445f081b8c19015ced71e": {
     "views": [
      {
       "cell_index": 4
      }
     ]
    },
    "746aa377d30a469489207643847c2b28": {
     "views": [
      {
       "cell_index": 4
      }
     ]
    },
    "75fb5e3d13ef41fd9ebf7d4cc1cb4d63": {
     "views": [
      {
       "cell_index": 4
      }
     ]
    },
    "760b491805a74b588d1d487104425f29": {
     "views": [
      {
       "cell_index": 4
      }
     ]
    },
    "77d5b012835448beb91ad14c8a22cbc2": {
     "views": [
      {
       "cell_index": 4
      }
     ]
    },
    "7aee34b47554445195a5e6faa1f9af37": {
     "views": [
      {
       "cell_index": 4
      }
     ]
    },
    "7bec5cc5eb0f4648936c60b9e4fcbb53": {
     "views": [
      {
       "cell_index": 4
      }
     ]
    },
    "7c1e3212e36f4419a602fb2d562a38d3": {
     "views": [
      {
       "cell_index": 4
      }
     ]
    },
    "7e401178cbbb428590440c363f78afca": {
     "views": [
      {
       "cell_index": 4
      }
     ]
    },
    "815dcd3d6ea5455092f0ac559715185f": {
     "views": [
      {
       "cell_index": 4
      }
     ]
    },
    "844f21ed5cf644479072fbb87755490e": {
     "views": [
      {
       "cell_index": 4
      }
     ]
    },
    "873073433dee483096423dd0cb823b63": {
     "views": [
      {
       "cell_index": 4
      }
     ]
    },
    "8afef464e5004ccca3abd655460ea144": {
     "views": [
      {
       "cell_index": 4
      }
     ]
    },
    "8b84811ad73046cba8123502b778b59f": {
     "views": [
      {
       "cell_index": 4
      }
     ]
    },
    "8ba8f0c943bf4c5e8aac4ec33f0e7dce": {
     "views": [
      {
       "cell_index": 4
      }
     ]
    },
    "8e33d578b0cf48c4a58a5bea93c9adc2": {
     "views": [
      {
       "cell_index": 4
      }
     ]
    },
    "90248302039040d090d86eca67794af7": {
     "views": [
      {
       "cell_index": 4
      }
     ]
    },
    "96c31cdfff764901a263add072a378e3": {
     "views": [
      {
       "cell_index": 4
      }
     ]
    },
    "98b046ef66b44a6785f45e407cf66775": {
     "views": [
      {
       "cell_index": 4
      }
     ]
    },
    "9d828e4329b84310aac0b12c63de1bc7": {
     "views": [
      {
       "cell_index": 4
      }
     ]
    },
    "9f59a8b50a4042ee98278179810c7e8c": {
     "views": [
      {
       "cell_index": 4
      }
     ]
    },
    "a0b2355a1000424ca79e27e59048b849": {
     "views": [
      {
       "cell_index": 4
      }
     ]
    },
    "a75076d8a2324660942e7d2e0f162f28": {
     "views": [
      {
       "cell_index": 4
      }
     ]
    },
    "a9344bbe6ac747aa97ec2f66eb4834de": {
     "views": [
      {
       "cell_index": 4
      }
     ]
    },
    "adbcbdbe339f4affa87f78e4fd4a2c9d": {
     "views": [
      {
       "cell_index": 4
      }
     ]
    },
    "b0d8be19733246e2b0378a8a087ea527": {
     "views": [
      {
       "cell_index": 4
      }
     ]
    },
    "b1be51e1878b47078897f50e30072b81": {
     "views": [
      {
       "cell_index": 4
      }
     ]
    },
    "b344b182196c4cca9143e00e5ea80d7c": {
     "views": [
      {
       "cell_index": 4
      }
     ]
    },
    "b66d173a346b4f12b11727a4edb7eb0b": {
     "views": [
      {
       "cell_index": 4
      }
     ]
    },
    "b69ac3df58e04d97b62047291fb2a23e": {
     "views": [
      {
       "cell_index": 4
      }
     ]
    },
    "b940111b0962494699d4adf0029da758": {
     "views": [
      {
       "cell_index": 4
      }
     ]
    },
    "bbe3dc82b2d44c1db2d24f677bfa89c6": {
     "views": [
      {
       "cell_index": 4
      }
     ]
    },
    "bcb81bb04bc84d4eaf8b0ef7097b2af7": {
     "views": [
      {
       "cell_index": 4
      }
     ]
    },
    "c0fd40fca7a646a5b77637005dfa4c72": {
     "views": [
      {
       "cell_index": 4
      }
     ]
    },
    "c22e01c115fc4f57a70782664cbd77be": {
     "views": [
      {
       "cell_index": 4
      }
     ]
    },
    "c4c0b97d5d8a42069a54e3ad9f401fbf": {
     "views": [
      {
       "cell_index": 4
      }
     ]
    },
    "c98587e77a4144de9844173bc087c48c": {
     "views": [
      {
       "cell_index": 4
      }
     ]
    },
    "cba2eb2b6f074f149ed4c1c44acd8101": {
     "views": [
      {
       "cell_index": 4
      }
     ]
    },
    "d2d7aff198b041de8b955ae617130b8f": {
     "views": [
      {
       "cell_index": 4
      }
     ]
    },
    "d36fbc68f7964e7c8184ecc9593f5725": {
     "views": [
      {
       "cell_index": 4
      }
     ]
    },
    "d5ea3b0df1114fb79310a7c4d52753ba": {
     "views": [
      {
       "cell_index": 4
      }
     ]
    },
    "d83da672f23c4f34a343b183b2a2688b": {
     "views": [
      {
       "cell_index": 4
      }
     ]
    },
    "dc57cbf8ac22494e822e1c5cabc6c845": {
     "views": [
      {
       "cell_index": 4
      }
     ]
    },
    "df01896cd712480282005a11e7482a1c": {
     "views": [
      {
       "cell_index": 4
      }
     ]
    },
    "df1530ad4a574ac4aee92fcabc0f05d8": {
     "views": [
      {
       "cell_index": 4
      }
     ]
    },
    "e2c6b641df3e465e802a389af31bca4e": {
     "views": [
      {
       "cell_index": 4
      }
     ]
    },
    "e2fb017230774502bb6ef18d6f4c57b6": {
     "views": [
      {
       "cell_index": 4
      }
     ]
    },
    "e4b491f03592433b8c45f9a6fe7f4189": {
     "views": [
      {
       "cell_index": 4
      }
     ]
    },
    "e4e1fa4cb1fd4654a5739ba59d5ed7ff": {
     "views": [
      {
       "cell_index": 4
      }
     ]
    },
    "e56162e5bb694810bf19fa6c5a4307f5": {
     "views": [
      {
       "cell_index": 4
      }
     ]
    },
    "e6534db0de60459ca55525195633c098": {
     "views": [
      {
       "cell_index": 4
      }
     ]
    },
    "e6680d954c95460d82c4d1e0b604ca86": {
     "views": [
      {
       "cell_index": 4
      }
     ]
    },
    "e739bdb091504239a14e8fe09cb34067": {
     "views": [
      {
       "cell_index": 4
      }
     ]
    },
    "e800c73d45234fbdb15a8e43dc0f9b29": {
     "views": [
      {
       "cell_index": 4
      }
     ]
    },
    "e836e4a9d4844ae4905466a0a1ef6639": {
     "views": [
      {
       "cell_index": 4
      }
     ]
    },
    "e927f564f7cb42449ae6f94803719058": {
     "views": [
      {
       "cell_index": 4
      }
     ]
    },
    "ebe09afce9a44b019fddf02ba4dcbe49": {
     "views": [
      {
       "cell_index": 4
      }
     ]
    },
    "ec72535cb5b243699f17dddd006db403": {
     "views": [
      {
       "cell_index": 4
      }
     ]
    },
    "f1ade692b0b0469abe53c39f17a425da": {
     "views": [
      {
       "cell_index": 4
      }
     ]
    },
    "f3361f7f483d4da088d971bb9140e259": {
     "views": [
      {
       "cell_index": 4
      }
     ]
    },
    "f79b8e75840e41488b21ab5c2b112c62": {
     "views": [
      {
       "cell_index": 4
      }
     ]
    },
    "fb684c743bd5499f929a1c80b920b793": {
     "views": [
      {
       "cell_index": 4
      }
     ]
    },
    "fb9439dc7f21445aaafae4e879a476c1": {
     "views": [
      {
       "cell_index": 4
      }
     ]
    },
    "fd90cdcca53a4a32a4517c6fa10533a6": {
     "views": [
      {
       "cell_index": 4
      }
     ]
    },
    "ff14d732d92444be9b0eaf54abc1694d": {
     "views": [
      {
       "cell_index": 4
      }
     ]
    },
    "ffddfb8902fd44319a5ab1401e6b1f94": {
     "views": [
      {
       "cell_index": 4
      }
     ]
    }
   },
   "version": "1.2.0"
  }
 },
 "nbformat": 4,
 "nbformat_minor": 0
}
