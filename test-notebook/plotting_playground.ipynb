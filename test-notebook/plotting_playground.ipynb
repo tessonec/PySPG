{
 "cells": [
  {
   "cell_type": "code",
   "execution_count": 10,
   "metadata": {
    "collapsed": false
   },
   "outputs": [
    {
     "name": "stdout",
     "output_type": "stream",
     "text": [
      "/mnt/hgfs/tessonec/Development/PySPG/test-notebook\n",
      "The autoreload extension is already loaded. To reload it, use:\n",
      "  %reload_ext autoreload\n"
     ]
    }
   ],
   "source": [
    "%matplotlib notebook\n",
    "%cd /home/tessonec/devel/PySPG/test-notebook\n",
    "\n",
    "%load_ext autoreload\n",
    "%autoreload 2\n",
    "\n",
    "import sys\n",
    "sys.path.append(\"/mnt/hgfs/tessonec/Development/PySPG\")"
   ]
  },
  {
   "cell_type": "code",
   "execution_count": 24,
   "metadata": {
    "collapsed": false
   },
   "outputs": [
    {
     "name": "stderr",
     "output_type": "stream",
     "text": [
      "[__main__.py -   INF ] no 'input' file found: nakamoto_exp.py\n",
      "[__main__.py -   INF ] output columns: ['max_branch', 'num_branch', 'orph_blc_rate', 'num_blocks', 'num_onchain_blocks', 'num_orph_blc', 'mean_prop_time', 'max_prop_time', 'repetition_time']\n"
     ]
    }
   ],
   "source": [
    "from notebook import SPGDataLoader, InteractivePlotter\n",
    "splotter = SPGDataLoader(\"psetting_t3.spg\")\n",
    "#splotter.setup_output_columns(['orph_blc_rate', 'mean_prop_time'])"
   ]
  },
  {
   "cell_type": "code",
   "execution_count": 25,
   "metadata": {
    "collapsed": false
   },
   "outputs": [
    {
     "name": "stdout",
     "output_type": "stream",
     "text": [
      "simulating_days :    1 values || 30 -- 30\n",
      "network_topology:    1 values || 2 -- 2\n",
      "num_nodes       :    2 values || 100 -- 1000\n",
      "pow_target_spacing:    1 values || 600 -- 600\n",
      "expo            :    1 values || 1.0 -- 1.0\n",
      "nodes_conn      :    6 values || 1 -- 32\n",
      "net_delay       :   36 values || 0.1 -- 145610.960606\n"
     ]
    }
   ],
   "source": [
    "splotter.describe_variables()"
   ]
  },
  {
   "cell_type": "code",
   "execution_count": 21,
   "metadata": {
    "collapsed": false
   },
   "outputs": [
    {
     "name": "stdout",
     "output_type": "stream",
     "text": [
      "variables      : simulating_days, network_topology, num_nodes, pow_target_spacing, expo, nodes_conn, net_delay\n",
      "  + separated  : ['simulating_days', 'network_topology', 'num_nodes', 'pow_target_spacing', 'expo']\n",
      "  + coalesced  : ['nodes_conn']\n",
      "  + independent: net_delay\n",
      "output columns : max_branch, num_branch, orph_blc_rate, num_blocks, num_onchain_blocks, num_orph_blc, mean_prop_time, max_prop_time, repetition_time \n"
     ]
    }
   ],
   "source": [
    "splotter.describe_configuration()"
   ]
  },
  {
   "cell_type": "code",
   "execution_count": 26,
   "metadata": {
    "collapsed": false
   },
   "outputs": [
    {
     "data": {
      "application/javascript": [
       "/* Put everything inside the global mpl namespace */\n",
       "window.mpl = {};\n",
       "\n",
       "mpl.get_websocket_type = function() {\n",
       "    if (typeof(WebSocket) !== 'undefined') {\n",
       "        return WebSocket;\n",
       "    } else if (typeof(MozWebSocket) !== 'undefined') {\n",
       "        return MozWebSocket;\n",
       "    } else {\n",
       "        alert('Your browser does not have WebSocket support.' +\n",
       "              'Please try Chrome, Safari or Firefox ≥ 6. ' +\n",
       "              'Firefox 4 and 5 are also supported but you ' +\n",
       "              'have to enable WebSockets in about:config.');\n",
       "    };\n",
       "}\n",
       "\n",
       "mpl.figure = function(figure_id, websocket, ondownload, parent_element) {\n",
       "    this.id = figure_id;\n",
       "\n",
       "    this.ws = websocket;\n",
       "\n",
       "    this.supports_binary = (this.ws.binaryType != undefined);\n",
       "\n",
       "    if (!this.supports_binary) {\n",
       "        var warnings = document.getElementById(\"mpl-warnings\");\n",
       "        if (warnings) {\n",
       "            warnings.style.display = 'block';\n",
       "            warnings.textContent = (\n",
       "                \"This browser does not support binary websocket messages. \" +\n",
       "                    \"Performance may be slow.\");\n",
       "        }\n",
       "    }\n",
       "\n",
       "    this.imageObj = new Image();\n",
       "\n",
       "    this.context = undefined;\n",
       "    this.message = undefined;\n",
       "    this.canvas = undefined;\n",
       "    this.rubberband_canvas = undefined;\n",
       "    this.rubberband_context = undefined;\n",
       "    this.format_dropdown = undefined;\n",
       "\n",
       "    this.image_mode = 'full';\n",
       "\n",
       "    this.root = $('<div/>');\n",
       "    this._root_extra_style(this.root)\n",
       "    this.root.attr('style', 'display: inline-block');\n",
       "\n",
       "    $(parent_element).append(this.root);\n",
       "\n",
       "    this._init_header(this);\n",
       "    this._init_canvas(this);\n",
       "    this._init_toolbar(this);\n",
       "\n",
       "    var fig = this;\n",
       "\n",
       "    this.waiting = false;\n",
       "\n",
       "    this.ws.onopen =  function () {\n",
       "            fig.send_message(\"supports_binary\", {value: fig.supports_binary});\n",
       "            fig.send_message(\"send_image_mode\", {});\n",
       "            fig.send_message(\"refresh\", {});\n",
       "        }\n",
       "\n",
       "    this.imageObj.onload = function() {\n",
       "            if (fig.image_mode == 'full') {\n",
       "                // Full images could contain transparency (where diff images\n",
       "                // almost always do), so we need to clear the canvas so that\n",
       "                // there is no ghosting.\n",
       "                fig.context.clearRect(0, 0, fig.canvas.width, fig.canvas.height);\n",
       "            }\n",
       "            fig.context.drawImage(fig.imageObj, 0, 0);\n",
       "        };\n",
       "\n",
       "    this.imageObj.onunload = function() {\n",
       "        this.ws.close();\n",
       "    }\n",
       "\n",
       "    this.ws.onmessage = this._make_on_message_function(this);\n",
       "\n",
       "    this.ondownload = ondownload;\n",
       "}\n",
       "\n",
       "mpl.figure.prototype._init_header = function() {\n",
       "    var titlebar = $(\n",
       "        '<div class=\"ui-dialog-titlebar ui-widget-header ui-corner-all ' +\n",
       "        'ui-helper-clearfix\"/>');\n",
       "    var titletext = $(\n",
       "        '<div class=\"ui-dialog-title\" style=\"width: 100%; ' +\n",
       "        'text-align: center; padding: 3px;\"/>');\n",
       "    titlebar.append(titletext)\n",
       "    this.root.append(titlebar);\n",
       "    this.header = titletext[0];\n",
       "}\n",
       "\n",
       "\n",
       "\n",
       "mpl.figure.prototype._canvas_extra_style = function(canvas_div) {\n",
       "\n",
       "}\n",
       "\n",
       "\n",
       "mpl.figure.prototype._root_extra_style = function(canvas_div) {\n",
       "\n",
       "}\n",
       "\n",
       "mpl.figure.prototype._init_canvas = function() {\n",
       "    var fig = this;\n",
       "\n",
       "    var canvas_div = $('<div/>');\n",
       "\n",
       "    canvas_div.attr('style', 'position: relative; clear: both; outline: 0');\n",
       "\n",
       "    function canvas_keyboard_event(event) {\n",
       "        return fig.key_event(event, event['data']);\n",
       "    }\n",
       "\n",
       "    canvas_div.keydown('key_press', canvas_keyboard_event);\n",
       "    canvas_div.keyup('key_release', canvas_keyboard_event);\n",
       "    this.canvas_div = canvas_div\n",
       "    this._canvas_extra_style(canvas_div)\n",
       "    this.root.append(canvas_div);\n",
       "\n",
       "    var canvas = $('<canvas/>');\n",
       "    canvas.addClass('mpl-canvas');\n",
       "    canvas.attr('style', \"left: 0; top: 0; z-index: 0; outline: 0\")\n",
       "\n",
       "    this.canvas = canvas[0];\n",
       "    this.context = canvas[0].getContext(\"2d\");\n",
       "\n",
       "    var rubberband = $('<canvas/>');\n",
       "    rubberband.attr('style', \"position: absolute; left: 0; top: 0; z-index: 1;\")\n",
       "\n",
       "    var pass_mouse_events = true;\n",
       "\n",
       "    canvas_div.resizable({\n",
       "        start: function(event, ui) {\n",
       "            pass_mouse_events = false;\n",
       "        },\n",
       "        resize: function(event, ui) {\n",
       "            fig.request_resize(ui.size.width, ui.size.height);\n",
       "        },\n",
       "        stop: function(event, ui) {\n",
       "            pass_mouse_events = true;\n",
       "            fig.request_resize(ui.size.width, ui.size.height);\n",
       "        },\n",
       "    });\n",
       "\n",
       "    function mouse_event_fn(event) {\n",
       "        if (pass_mouse_events)\n",
       "            return fig.mouse_event(event, event['data']);\n",
       "    }\n",
       "\n",
       "    rubberband.mousedown('button_press', mouse_event_fn);\n",
       "    rubberband.mouseup('button_release', mouse_event_fn);\n",
       "    // Throttle sequential mouse events to 1 every 20ms.\n",
       "    rubberband.mousemove('motion_notify', mouse_event_fn);\n",
       "\n",
       "    rubberband.mouseenter('figure_enter', mouse_event_fn);\n",
       "    rubberband.mouseleave('figure_leave', mouse_event_fn);\n",
       "\n",
       "    canvas_div.on(\"wheel\", function (event) {\n",
       "        event = event.originalEvent;\n",
       "        event['data'] = 'scroll'\n",
       "        if (event.deltaY < 0) {\n",
       "            event.step = 1;\n",
       "        } else {\n",
       "            event.step = -1;\n",
       "        }\n",
       "        mouse_event_fn(event);\n",
       "    });\n",
       "\n",
       "    canvas_div.append(canvas);\n",
       "    canvas_div.append(rubberband);\n",
       "\n",
       "    this.rubberband = rubberband;\n",
       "    this.rubberband_canvas = rubberband[0];\n",
       "    this.rubberband_context = rubberband[0].getContext(\"2d\");\n",
       "    this.rubberband_context.strokeStyle = \"#000000\";\n",
       "\n",
       "    this._resize_canvas = function(width, height) {\n",
       "        // Keep the size of the canvas, canvas container, and rubber band\n",
       "        // canvas in synch.\n",
       "        canvas_div.css('width', width)\n",
       "        canvas_div.css('height', height)\n",
       "\n",
       "        canvas.attr('width', width);\n",
       "        canvas.attr('height', height);\n",
       "\n",
       "        rubberband.attr('width', width);\n",
       "        rubberband.attr('height', height);\n",
       "    }\n",
       "\n",
       "    // Set the figure to an initial 600x600px, this will subsequently be updated\n",
       "    // upon first draw.\n",
       "    this._resize_canvas(600, 600);\n",
       "\n",
       "    // Disable right mouse context menu.\n",
       "    $(this.rubberband_canvas).bind(\"contextmenu\",function(e){\n",
       "        return false;\n",
       "    });\n",
       "\n",
       "    function set_focus () {\n",
       "        canvas.focus();\n",
       "        canvas_div.focus();\n",
       "    }\n",
       "\n",
       "    window.setTimeout(set_focus, 100);\n",
       "}\n",
       "\n",
       "mpl.figure.prototype._init_toolbar = function() {\n",
       "    var fig = this;\n",
       "\n",
       "    var nav_element = $('<div/>')\n",
       "    nav_element.attr('style', 'width: 100%');\n",
       "    this.root.append(nav_element);\n",
       "\n",
       "    // Define a callback function for later on.\n",
       "    function toolbar_event(event) {\n",
       "        return fig.toolbar_button_onclick(event['data']);\n",
       "    }\n",
       "    function toolbar_mouse_event(event) {\n",
       "        return fig.toolbar_button_onmouseover(event['data']);\n",
       "    }\n",
       "\n",
       "    for(var toolbar_ind in mpl.toolbar_items) {\n",
       "        var name = mpl.toolbar_items[toolbar_ind][0];\n",
       "        var tooltip = mpl.toolbar_items[toolbar_ind][1];\n",
       "        var image = mpl.toolbar_items[toolbar_ind][2];\n",
       "        var method_name = mpl.toolbar_items[toolbar_ind][3];\n",
       "\n",
       "        if (!name) {\n",
       "            // put a spacer in here.\n",
       "            continue;\n",
       "        }\n",
       "        var button = $('<button/>');\n",
       "        button.addClass('ui-button ui-widget ui-state-default ui-corner-all ' +\n",
       "                        'ui-button-icon-only');\n",
       "        button.attr('role', 'button');\n",
       "        button.attr('aria-disabled', 'false');\n",
       "        button.click(method_name, toolbar_event);\n",
       "        button.mouseover(tooltip, toolbar_mouse_event);\n",
       "\n",
       "        var icon_img = $('<span/>');\n",
       "        icon_img.addClass('ui-button-icon-primary ui-icon');\n",
       "        icon_img.addClass(image);\n",
       "        icon_img.addClass('ui-corner-all');\n",
       "\n",
       "        var tooltip_span = $('<span/>');\n",
       "        tooltip_span.addClass('ui-button-text');\n",
       "        tooltip_span.html(tooltip);\n",
       "\n",
       "        button.append(icon_img);\n",
       "        button.append(tooltip_span);\n",
       "\n",
       "        nav_element.append(button);\n",
       "    }\n",
       "\n",
       "    var fmt_picker_span = $('<span/>');\n",
       "\n",
       "    var fmt_picker = $('<select/>');\n",
       "    fmt_picker.addClass('mpl-toolbar-option ui-widget ui-widget-content');\n",
       "    fmt_picker_span.append(fmt_picker);\n",
       "    nav_element.append(fmt_picker_span);\n",
       "    this.format_dropdown = fmt_picker[0];\n",
       "\n",
       "    for (var ind in mpl.extensions) {\n",
       "        var fmt = mpl.extensions[ind];\n",
       "        var option = $(\n",
       "            '<option/>', {selected: fmt === mpl.default_extension}).html(fmt);\n",
       "        fmt_picker.append(option)\n",
       "    }\n",
       "\n",
       "    // Add hover states to the ui-buttons\n",
       "    $( \".ui-button\" ).hover(\n",
       "        function() { $(this).addClass(\"ui-state-hover\");},\n",
       "        function() { $(this).removeClass(\"ui-state-hover\");}\n",
       "    );\n",
       "\n",
       "    var status_bar = $('<span class=\"mpl-message\"/>');\n",
       "    nav_element.append(status_bar);\n",
       "    this.message = status_bar[0];\n",
       "}\n",
       "\n",
       "mpl.figure.prototype.request_resize = function(x_pixels, y_pixels) {\n",
       "    // Request matplotlib to resize the figure. Matplotlib will then trigger a resize in the client,\n",
       "    // which will in turn request a refresh of the image.\n",
       "    this.send_message('resize', {'width': x_pixels, 'height': y_pixels});\n",
       "}\n",
       "\n",
       "mpl.figure.prototype.send_message = function(type, properties) {\n",
       "    properties['type'] = type;\n",
       "    properties['figure_id'] = this.id;\n",
       "    this.ws.send(JSON.stringify(properties));\n",
       "}\n",
       "\n",
       "mpl.figure.prototype.send_draw_message = function() {\n",
       "    if (!this.waiting) {\n",
       "        this.waiting = true;\n",
       "        this.ws.send(JSON.stringify({type: \"draw\", figure_id: this.id}));\n",
       "    }\n",
       "}\n",
       "\n",
       "\n",
       "mpl.figure.prototype.handle_save = function(fig, msg) {\n",
       "    var format_dropdown = fig.format_dropdown;\n",
       "    var format = format_dropdown.options[format_dropdown.selectedIndex].value;\n",
       "    fig.ondownload(fig, format);\n",
       "}\n",
       "\n",
       "\n",
       "mpl.figure.prototype.handle_resize = function(fig, msg) {\n",
       "    var size = msg['size'];\n",
       "    if (size[0] != fig.canvas.width || size[1] != fig.canvas.height) {\n",
       "        fig._resize_canvas(size[0], size[1]);\n",
       "        fig.send_message(\"refresh\", {});\n",
       "    };\n",
       "}\n",
       "\n",
       "mpl.figure.prototype.handle_rubberband = function(fig, msg) {\n",
       "    var x0 = msg['x0'];\n",
       "    var y0 = fig.canvas.height - msg['y0'];\n",
       "    var x1 = msg['x1'];\n",
       "    var y1 = fig.canvas.height - msg['y1'];\n",
       "    x0 = Math.floor(x0) + 0.5;\n",
       "    y0 = Math.floor(y0) + 0.5;\n",
       "    x1 = Math.floor(x1) + 0.5;\n",
       "    y1 = Math.floor(y1) + 0.5;\n",
       "    var min_x = Math.min(x0, x1);\n",
       "    var min_y = Math.min(y0, y1);\n",
       "    var width = Math.abs(x1 - x0);\n",
       "    var height = Math.abs(y1 - y0);\n",
       "\n",
       "    fig.rubberband_context.clearRect(\n",
       "        0, 0, fig.canvas.width, fig.canvas.height);\n",
       "\n",
       "    fig.rubberband_context.strokeRect(min_x, min_y, width, height);\n",
       "}\n",
       "\n",
       "mpl.figure.prototype.handle_figure_label = function(fig, msg) {\n",
       "    // Updates the figure title.\n",
       "    fig.header.textContent = msg['label'];\n",
       "}\n",
       "\n",
       "mpl.figure.prototype.handle_cursor = function(fig, msg) {\n",
       "    var cursor = msg['cursor'];\n",
       "    switch(cursor)\n",
       "    {\n",
       "    case 0:\n",
       "        cursor = 'pointer';\n",
       "        break;\n",
       "    case 1:\n",
       "        cursor = 'default';\n",
       "        break;\n",
       "    case 2:\n",
       "        cursor = 'crosshair';\n",
       "        break;\n",
       "    case 3:\n",
       "        cursor = 'move';\n",
       "        break;\n",
       "    }\n",
       "    fig.rubberband_canvas.style.cursor = cursor;\n",
       "}\n",
       "\n",
       "mpl.figure.prototype.handle_message = function(fig, msg) {\n",
       "    fig.message.textContent = msg['message'];\n",
       "}\n",
       "\n",
       "mpl.figure.prototype.handle_draw = function(fig, msg) {\n",
       "    // Request the server to send over a new figure.\n",
       "    fig.send_draw_message();\n",
       "}\n",
       "\n",
       "mpl.figure.prototype.handle_image_mode = function(fig, msg) {\n",
       "    fig.image_mode = msg['mode'];\n",
       "}\n",
       "\n",
       "mpl.figure.prototype.updated_canvas_event = function() {\n",
       "    // Called whenever the canvas gets updated.\n",
       "    this.send_message(\"ack\", {});\n",
       "}\n",
       "\n",
       "// A function to construct a web socket function for onmessage handling.\n",
       "// Called in the figure constructor.\n",
       "mpl.figure.prototype._make_on_message_function = function(fig) {\n",
       "    return function socket_on_message(evt) {\n",
       "        if (evt.data instanceof Blob) {\n",
       "            /* FIXME: We get \"Resource interpreted as Image but\n",
       "             * transferred with MIME type text/plain:\" errors on\n",
       "             * Chrome.  But how to set the MIME type?  It doesn't seem\n",
       "             * to be part of the websocket stream */\n",
       "            evt.data.type = \"image/png\";\n",
       "\n",
       "            /* Free the memory for the previous frames */\n",
       "            if (fig.imageObj.src) {\n",
       "                (window.URL || window.webkitURL).revokeObjectURL(\n",
       "                    fig.imageObj.src);\n",
       "            }\n",
       "\n",
       "            fig.imageObj.src = (window.URL || window.webkitURL).createObjectURL(\n",
       "                evt.data);\n",
       "            fig.updated_canvas_event();\n",
       "            fig.waiting = false;\n",
       "            return;\n",
       "        }\n",
       "        else if (typeof evt.data === 'string' && evt.data.slice(0, 21) == \"data:image/png;base64\") {\n",
       "            fig.imageObj.src = evt.data;\n",
       "            fig.updated_canvas_event();\n",
       "            fig.waiting = false;\n",
       "            return;\n",
       "        }\n",
       "\n",
       "        var msg = JSON.parse(evt.data);\n",
       "        var msg_type = msg['type'];\n",
       "\n",
       "        // Call the  \"handle_{type}\" callback, which takes\n",
       "        // the figure and JSON message as its only arguments.\n",
       "        try {\n",
       "            var callback = fig[\"handle_\" + msg_type];\n",
       "        } catch (e) {\n",
       "            console.log(\"No handler for the '\" + msg_type + \"' message type: \", msg);\n",
       "            return;\n",
       "        }\n",
       "\n",
       "        if (callback) {\n",
       "            try {\n",
       "                // console.log(\"Handling '\" + msg_type + \"' message: \", msg);\n",
       "                callback(fig, msg);\n",
       "            } catch (e) {\n",
       "                console.log(\"Exception inside the 'handler_\" + msg_type + \"' callback:\", e, e.stack, msg);\n",
       "            }\n",
       "        }\n",
       "    };\n",
       "}\n",
       "\n",
       "// from http://stackoverflow.com/questions/1114465/getting-mouse-location-in-canvas\n",
       "mpl.findpos = function(e) {\n",
       "    //this section is from http://www.quirksmode.org/js/events_properties.html\n",
       "    var targ;\n",
       "    if (!e)\n",
       "        e = window.event;\n",
       "    if (e.target)\n",
       "        targ = e.target;\n",
       "    else if (e.srcElement)\n",
       "        targ = e.srcElement;\n",
       "    if (targ.nodeType == 3) // defeat Safari bug\n",
       "        targ = targ.parentNode;\n",
       "\n",
       "    // jQuery normalizes the pageX and pageY\n",
       "    // pageX,Y are the mouse positions relative to the document\n",
       "    // offset() returns the position of the element relative to the document\n",
       "    var x = e.pageX - $(targ).offset().left;\n",
       "    var y = e.pageY - $(targ).offset().top;\n",
       "\n",
       "    return {\"x\": x, \"y\": y};\n",
       "};\n",
       "\n",
       "/*\n",
       " * return a copy of an object with only non-object keys\n",
       " * we need this to avoid circular references\n",
       " * http://stackoverflow.com/a/24161582/3208463\n",
       " */\n",
       "function simpleKeys (original) {\n",
       "  return Object.keys(original).reduce(function (obj, key) {\n",
       "    if (typeof original[key] !== 'object')\n",
       "        obj[key] = original[key]\n",
       "    return obj;\n",
       "  }, {});\n",
       "}\n",
       "\n",
       "mpl.figure.prototype.mouse_event = function(event, name) {\n",
       "    var canvas_pos = mpl.findpos(event)\n",
       "\n",
       "    if (name === 'button_press')\n",
       "    {\n",
       "        this.canvas.focus();\n",
       "        this.canvas_div.focus();\n",
       "    }\n",
       "\n",
       "    var x = canvas_pos.x;\n",
       "    var y = canvas_pos.y;\n",
       "\n",
       "    this.send_message(name, {x: x, y: y, button: event.button,\n",
       "                             step: event.step,\n",
       "                             guiEvent: simpleKeys(event)});\n",
       "\n",
       "    /* This prevents the web browser from automatically changing to\n",
       "     * the text insertion cursor when the button is pressed.  We want\n",
       "     * to control all of the cursor setting manually through the\n",
       "     * 'cursor' event from matplotlib */\n",
       "    event.preventDefault();\n",
       "    return false;\n",
       "}\n",
       "\n",
       "mpl.figure.prototype._key_event_extra = function(event, name) {\n",
       "    // Handle any extra behaviour associated with a key event\n",
       "}\n",
       "\n",
       "mpl.figure.prototype.key_event = function(event, name) {\n",
       "\n",
       "    // Prevent repeat events\n",
       "    if (name == 'key_press')\n",
       "    {\n",
       "        if (event.which === this._key)\n",
       "            return;\n",
       "        else\n",
       "            this._key = event.which;\n",
       "    }\n",
       "    if (name == 'key_release')\n",
       "        this._key = null;\n",
       "\n",
       "    var value = '';\n",
       "    if (event.ctrlKey && event.which != 17)\n",
       "        value += \"ctrl+\";\n",
       "    if (event.altKey && event.which != 18)\n",
       "        value += \"alt+\";\n",
       "    if (event.shiftKey && event.which != 16)\n",
       "        value += \"shift+\";\n",
       "\n",
       "    value += 'k';\n",
       "    value += event.which.toString();\n",
       "\n",
       "    this._key_event_extra(event, name);\n",
       "\n",
       "    this.send_message(name, {key: value,\n",
       "                             guiEvent: simpleKeys(event)});\n",
       "    return false;\n",
       "}\n",
       "\n",
       "mpl.figure.prototype.toolbar_button_onclick = function(name) {\n",
       "    if (name == 'download') {\n",
       "        this.handle_save(this, null);\n",
       "    } else {\n",
       "        this.send_message(\"toolbar_button\", {name: name});\n",
       "    }\n",
       "};\n",
       "\n",
       "mpl.figure.prototype.toolbar_button_onmouseover = function(tooltip) {\n",
       "    this.message.textContent = tooltip;\n",
       "};\n",
       "mpl.toolbar_items = [[\"Home\", \"Reset original view\", \"fa fa-home icon-home\", \"home\"], [\"Back\", \"Back to  previous view\", \"fa fa-arrow-left icon-arrow-left\", \"back\"], [\"Forward\", \"Forward to next view\", \"fa fa-arrow-right icon-arrow-right\", \"forward\"], [\"\", \"\", \"\", \"\"], [\"Pan\", \"Pan axes with left mouse, zoom with right\", \"fa fa-arrows icon-move\", \"pan\"], [\"Zoom\", \"Zoom to rectangle\", \"fa fa-square-o icon-check-empty\", \"zoom\"], [\"\", \"\", \"\", \"\"], [\"Download\", \"Download plot\", \"fa fa-floppy-o icon-save\", \"download\"]];\n",
       "\n",
       "mpl.extensions = [\"eps\", \"jpeg\", \"pdf\", \"png\", \"ps\", \"raw\", \"svg\", \"tif\"];\n",
       "\n",
       "mpl.default_extension = \"png\";var comm_websocket_adapter = function(comm) {\n",
       "    // Create a \"websocket\"-like object which calls the given IPython comm\n",
       "    // object with the appropriate methods. Currently this is a non binary\n",
       "    // socket, so there is still some room for performance tuning.\n",
       "    var ws = {};\n",
       "\n",
       "    ws.close = function() {\n",
       "        comm.close()\n",
       "    };\n",
       "    ws.send = function(m) {\n",
       "        //console.log('sending', m);\n",
       "        comm.send(m);\n",
       "    };\n",
       "    // Register the callback with on_msg.\n",
       "    comm.on_msg(function(msg) {\n",
       "        //console.log('receiving', msg['content']['data'], msg);\n",
       "        // Pass the mpl event to the overriden (by mpl) onmessage function.\n",
       "        ws.onmessage(msg['content']['data'])\n",
       "    });\n",
       "    return ws;\n",
       "}\n",
       "\n",
       "mpl.mpl_figure_comm = function(comm, msg) {\n",
       "    // This is the function which gets called when the mpl process\n",
       "    // starts-up an IPython Comm through the \"matplotlib\" channel.\n",
       "\n",
       "    var id = msg.content.data.id;\n",
       "    // Get hold of the div created by the display call when the Comm\n",
       "    // socket was opened in Python.\n",
       "    var element = $(\"#\" + id);\n",
       "    var ws_proxy = comm_websocket_adapter(comm)\n",
       "\n",
       "    function ondownload(figure, format) {\n",
       "        window.open(figure.imageObj.src);\n",
       "    }\n",
       "\n",
       "    var fig = new mpl.figure(id, ws_proxy,\n",
       "                           ondownload,\n",
       "                           element.get(0));\n",
       "\n",
       "    // Call onopen now - mpl needs it, as it is assuming we've passed it a real\n",
       "    // web socket which is closed, not our websocket->open comm proxy.\n",
       "    ws_proxy.onopen();\n",
       "\n",
       "    fig.parent_element = element.get(0);\n",
       "    fig.cell_info = mpl.find_output_cell(\"<div id='\" + id + \"'></div>\");\n",
       "    if (!fig.cell_info) {\n",
       "        console.error(\"Failed to find cell for figure\", id, fig);\n",
       "        return;\n",
       "    }\n",
       "\n",
       "    var output_index = fig.cell_info[2]\n",
       "    var cell = fig.cell_info[0];\n",
       "\n",
       "};\n",
       "\n",
       "mpl.figure.prototype.handle_close = function(fig, msg) {\n",
       "    fig.root.unbind('remove')\n",
       "\n",
       "    // Update the output cell to use the data from the current canvas.\n",
       "    fig.push_to_output();\n",
       "    var dataURL = fig.canvas.toDataURL();\n",
       "    // Re-enable the keyboard manager in IPython - without this line, in FF,\n",
       "    // the notebook keyboard shortcuts fail.\n",
       "    IPython.keyboard_manager.enable()\n",
       "    $(fig.parent_element).html('<img src=\"' + dataURL + '\">');\n",
       "    fig.close_ws(fig, msg);\n",
       "}\n",
       "\n",
       "mpl.figure.prototype.close_ws = function(fig, msg){\n",
       "    fig.send_message('closing', msg);\n",
       "    // fig.ws.close()\n",
       "}\n",
       "\n",
       "mpl.figure.prototype.push_to_output = function(remove_interactive) {\n",
       "    // Turn the data on the canvas into data in the output cell.\n",
       "    var dataURL = this.canvas.toDataURL();\n",
       "    this.cell_info[1]['text/html'] = '<img src=\"' + dataURL + '\">';\n",
       "}\n",
       "\n",
       "mpl.figure.prototype.updated_canvas_event = function() {\n",
       "    // Tell IPython that the notebook contents must change.\n",
       "    IPython.notebook.set_dirty(true);\n",
       "    this.send_message(\"ack\", {});\n",
       "    var fig = this;\n",
       "    // Wait a second, then push the new image to the DOM so\n",
       "    // that it is saved nicely (might be nice to debounce this).\n",
       "    setTimeout(function () { fig.push_to_output() }, 1000);\n",
       "}\n",
       "\n",
       "mpl.figure.prototype._init_toolbar = function() {\n",
       "    var fig = this;\n",
       "\n",
       "    var nav_element = $('<div/>')\n",
       "    nav_element.attr('style', 'width: 100%');\n",
       "    this.root.append(nav_element);\n",
       "\n",
       "    // Define a callback function for later on.\n",
       "    function toolbar_event(event) {\n",
       "        return fig.toolbar_button_onclick(event['data']);\n",
       "    }\n",
       "    function toolbar_mouse_event(event) {\n",
       "        return fig.toolbar_button_onmouseover(event['data']);\n",
       "    }\n",
       "\n",
       "    for(var toolbar_ind in mpl.toolbar_items){\n",
       "        var name = mpl.toolbar_items[toolbar_ind][0];\n",
       "        var tooltip = mpl.toolbar_items[toolbar_ind][1];\n",
       "        var image = mpl.toolbar_items[toolbar_ind][2];\n",
       "        var method_name = mpl.toolbar_items[toolbar_ind][3];\n",
       "\n",
       "        if (!name) { continue; };\n",
       "\n",
       "        var button = $('<button class=\"btn btn-default\" href=\"#\" title=\"' + name + '\"><i class=\"fa ' + image + ' fa-lg\"></i></button>');\n",
       "        button.click(method_name, toolbar_event);\n",
       "        button.mouseover(tooltip, toolbar_mouse_event);\n",
       "        nav_element.append(button);\n",
       "    }\n",
       "\n",
       "    // Add the status bar.\n",
       "    var status_bar = $('<span class=\"mpl-message\" style=\"text-align:right; float: right;\"/>');\n",
       "    nav_element.append(status_bar);\n",
       "    this.message = status_bar[0];\n",
       "\n",
       "    // Add the close button to the window.\n",
       "    var buttongrp = $('<div class=\"btn-group inline pull-right\"></div>');\n",
       "    var button = $('<button class=\"btn btn-mini btn-primary\" href=\"#\" title=\"Stop Interaction\"><i class=\"fa fa-power-off icon-remove icon-large\"></i></button>');\n",
       "    button.click(function (evt) { fig.handle_close(fig, {}); } );\n",
       "    button.mouseover('Stop Interaction', toolbar_mouse_event);\n",
       "    buttongrp.append(button);\n",
       "    var titlebar = this.root.find($('.ui-dialog-titlebar'));\n",
       "    titlebar.prepend(buttongrp);\n",
       "}\n",
       "\n",
       "mpl.figure.prototype._root_extra_style = function(el){\n",
       "    var fig = this\n",
       "    el.on(\"remove\", function(){\n",
       "\tfig.close_ws(fig, {});\n",
       "    });\n",
       "}\n",
       "\n",
       "mpl.figure.prototype._canvas_extra_style = function(el){\n",
       "    // this is important to make the div 'focusable\n",
       "    el.attr('tabindex', 0)\n",
       "    // reach out to IPython and tell the keyboard manager to turn it's self\n",
       "    // off when our div gets focus\n",
       "\n",
       "    // location in version 3\n",
       "    if (IPython.notebook.keyboard_manager) {\n",
       "        IPython.notebook.keyboard_manager.register_events(el);\n",
       "    }\n",
       "    else {\n",
       "        // location in version 2\n",
       "        IPython.keyboard_manager.register_events(el);\n",
       "    }\n",
       "\n",
       "}\n",
       "\n",
       "mpl.figure.prototype._key_event_extra = function(event, name) {\n",
       "    var manager = IPython.notebook.keyboard_manager;\n",
       "    if (!manager)\n",
       "        manager = IPython.keyboard_manager;\n",
       "\n",
       "    // Check for shift+enter\n",
       "    if (event.shiftKey && event.which == 13) {\n",
       "        this.canvas_div.blur();\n",
       "        event.shiftKey = false;\n",
       "        // Send a \"J\" for go to next cell\n",
       "        event.which = 74;\n",
       "        event.keyCode = 74;\n",
       "        manager.command_mode();\n",
       "        manager.handle_keydown(event);\n",
       "    }\n",
       "}\n",
       "\n",
       "mpl.figure.prototype.handle_save = function(fig, msg) {\n",
       "    fig.ondownload(fig, null);\n",
       "}\n",
       "\n",
       "\n",
       "mpl.find_output_cell = function(html_output) {\n",
       "    // Return the cell and output element which can be found *uniquely* in the notebook.\n",
       "    // Note - this is a bit hacky, but it is done because the \"notebook_saving.Notebook\"\n",
       "    // IPython event is triggered only after the cells have been serialised, which for\n",
       "    // our purposes (turning an active figure into a static one), is too late.\n",
       "    var cells = IPython.notebook.get_cells();\n",
       "    var ncells = cells.length;\n",
       "    for (var i=0; i<ncells; i++) {\n",
       "        var cell = cells[i];\n",
       "        if (cell.cell_type === 'code'){\n",
       "            for (var j=0; j<cell.output_area.outputs.length; j++) {\n",
       "                var data = cell.output_area.outputs[j];\n",
       "                if (data.data) {\n",
       "                    // IPython >= 3 moved mimebundle to data attribute of output\n",
       "                    data = data.data;\n",
       "                }\n",
       "                if (data['text/html'] == html_output) {\n",
       "                    return [cell, data, j];\n",
       "                }\n",
       "            }\n",
       "        }\n",
       "    }\n",
       "}\n",
       "\n",
       "// Register the function which deals with the matplotlib target/channel.\n",
       "// The kernel may be null if the page has been refreshed.\n",
       "if (IPython.notebook.kernel != null) {\n",
       "    IPython.notebook.kernel.comm_manager.register_target('matplotlib', mpl.mpl_figure_comm);\n",
       "}\n"
      ],
      "text/plain": [
       "<IPython.core.display.Javascript object>"
      ]
     },
     "metadata": {},
     "output_type": "display_data"
    },
    {
     "data": {
      "text/html": [
       "<img src=\"data:image/png;base64,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\">"
      ],
      "text/plain": [
       "<IPython.core.display.HTML object>"
      ]
     },
     "metadata": {},
     "output_type": "display_data"
    },
    {
     "name": "stdout",
     "output_type": "stream",
     "text": [
      "log\n"
     ]
    }
   ],
   "source": [
    "ip = InteractivePlotter( splotter )"
   ]
  },
  {
   "cell_type": "code",
   "execution_count": null,
   "metadata": {
    "collapsed": true
   },
   "outputs": [],
   "source": []
  }
 ],
 "metadata": {
  "kernelspec": {
   "display_name": "Python 2",
   "language": "python",
   "name": "python2"
  },
  "language_info": {
   "codemirror_mode": {
    "name": "ipython",
    "version": 2
   },
   "file_extension": ".py",
   "mimetype": "text/x-python",
   "name": "python",
   "nbconvert_exporter": "python",
   "pygments_lexer": "ipython2",
   "version": "2.7.12+"
  },
  "widgets": {
   "state": {
    "01a9f8e039034069a392589db2eb50be": {
     "views": [
      {
       "cell_index": 4
      }
     ]
    },
    "03d74d6433bb42ca8bca1c2df19177ab": {
     "views": [
      {
       "cell_index": 4
      }
     ]
    },
    "0496c002b74b467c8f1376d4d1a24556": {
     "views": [
      {
       "cell_index": 4
      }
     ]
    },
    "099430aa0809451c9fec0a7f52183046": {
     "views": [
      {
       "cell_index": 4
      }
     ]
    },
    "0b33d41edb9640c78298842ffdaf5624": {
     "views": [
      {
       "cell_index": 4
      }
     ]
    },
    "0bc9a94efcc34b398f7cfe1f4c3b22f8": {
     "views": [
      {
       "cell_index": 4
      }
     ]
    },
    "0c038410308f4981abc5e4a3cc648c97": {
     "views": [
      {
       "cell_index": 4
      }
     ]
    },
    "0fdee23e78e244c9aa32d3da5529c8a9": {
     "views": [
      {
       "cell_index": 4
      }
     ]
    },
    "110741e342b548f198f04647bdae7f0e": {
     "views": [
      {
       "cell_index": 4
      }
     ]
    },
    "112935e1bf414b728c99878adb31f0bf": {
     "views": [
      {
       "cell_index": 4
      }
     ]
    },
    "14a3aa24a9f94ee78c850213a28e3293": {
     "views": [
      {
       "cell_index": 4
      }
     ]
    },
    "14f5e0dc79054ef7bd52445595043bc0": {
     "views": [
      {
       "cell_index": 4
      }
     ]
    },
    "15ac937fa98d44cc81e88095acd2bb6b": {
     "views": [
      {
       "cell_index": 4
      }
     ]
    },
    "18c36cca86b14fab870acb12f7a9b440": {
     "views": [
      {
       "cell_index": 4
      }
     ]
    },
    "1ceedda603ac4442b0e9255c39305ab1": {
     "views": [
      {
       "cell_index": 4
      }
     ]
    },
    "1fd3def2c1b74bfba040e96a2ccdd811": {
     "views": [
      {
       "cell_index": 4
      }
     ]
    },
    "20abe206063e40f1921c876386f6979a": {
     "views": [
      {
       "cell_index": 4
      }
     ]
    },
    "22109a32b1534ab8bbdd97265d29d663": {
     "views": [
      {
       "cell_index": 4
      }
     ]
    },
    "2229f35341ae49b79145c84a1eb2cb90": {
     "views": [
      {
       "cell_index": 4
      }
     ]
    },
    "23794a52bbf94af59b6505bec4bde31b": {
     "views": [
      {
       "cell_index": 4
      }
     ]
    },
    "23a63ce894fa4d37af2c1bd322f794d7": {
     "views": [
      {
       "cell_index": 4
      }
     ]
    },
    "294ab2369d0e4bb38726b2e56aa8545d": {
     "views": [
      {
       "cell_index": 4
      }
     ]
    },
    "2a647d00f3144eabaa30ba067dea0ec6": {
     "views": [
      {
       "cell_index": 4
      }
     ]
    },
    "2c0ca880e3d04ccf883ee3a9ec999be4": {
     "views": [
      {
       "cell_index": 4
      }
     ]
    },
    "3382e17532a94d4b83eb74ffdf826062": {
     "views": [
      {
       "cell_index": 4
      }
     ]
    },
    "36e7652ae51e49ecb125e720eba25c6d": {
     "views": [
      {
       "cell_index": 4
      }
     ]
    },
    "398e1e87d47942aa99278e450da07af0": {
     "views": [
      {
       "cell_index": 4
      }
     ]
    },
    "3dc3d3d41f68406aa6a55798b4681bf7": {
     "views": [
      {
       "cell_index": 4
      }
     ]
    },
    "408e27fc5dab44d4b1a3ea88a191d3d4": {
     "views": [
      {
       "cell_index": 4
      }
     ]
    },
    "4272f44f89e14d7cb649eb79fe9a29b8": {
     "views": [
      {
       "cell_index": 4
      }
     ]
    },
    "44d4d6dc9ade412da4467f594ee9e91a": {
     "views": [
      {
       "cell_index": 4
      }
     ]
    },
    "4779f41ca787420187c0ddaa38ee320a": {
     "views": [
      {
       "cell_index": 4
      }
     ]
    },
    "497782f2bf5e4698ac213c64ece4143e": {
     "views": [
      {
       "cell_index": 4
      }
     ]
    },
    "4f3f4fef38b442f59ef4a248fbad10a2": {
     "views": [
      {
       "cell_index": 4
      }
     ]
    },
    "51fa559aded84b0daf31787db6fb8b43": {
     "views": [
      {
       "cell_index": 4
      }
     ]
    },
    "5446f5cd13054ec981d11443dbb93b58": {
     "views": [
      {
       "cell_index": 4
      }
     ]
    },
    "58bf4dd4dd53460f958208d15bdd15cf": {
     "views": [
      {
       "cell_index": 4
      }
     ]
    },
    "5c3460b8a95d41b5b9e916f6facc9729": {
     "views": [
      {
       "cell_index": 8
      }
     ]
    },
    "5c8866ed237d4a57a32e453ebd879b78": {
     "views": [
      {
       "cell_index": 4
      }
     ]
    },
    "60293318621642a8a6a9647faca61f6e": {
     "views": [
      {
       "cell_index": 4
      }
     ]
    },
    "60c19bba10fa433bb1a3fc91dc5af63f": {
     "views": [
      {
       "cell_index": 4
      }
     ]
    },
    "61e498d7968c417982958063d6070fe3": {
     "views": [
      {
       "cell_index": 4
      }
     ]
    },
    "62cef4efbede449f9d40b8da9566158e": {
     "views": [
      {
       "cell_index": 4
      }
     ]
    },
    "63cabb49c7124f4496a38f3ebe008f0f": {
     "views": [
      {
       "cell_index": 4
      }
     ]
    },
    "65580c92f4bc40698ba7c6ca78fcb55c": {
     "views": [
      {
       "cell_index": 4
      },
      {
       "cell_index": 4
      }
     ]
    },
    "6662eccf085449c19d01bab247a3e079": {
     "views": [
      {
       "cell_index": 4
      }
     ]
    },
    "6827945d3552471888b1e7b753dc0572": {
     "views": [
      {
       "cell_index": 4
      }
     ]
    },
    "68f6fd8901b8440f8f7d7b133577b8af": {
     "views": [
      {
       "cell_index": 4
      }
     ]
    },
    "704ef8888bb84a9a90b5a27a67a40ec2": {
     "views": [
      {
       "cell_index": 4
      }
     ]
    },
    "740ebab19fa445f081b8c19015ced71e": {
     "views": [
      {
       "cell_index": 4
      }
     ]
    },
    "746aa377d30a469489207643847c2b28": {
     "views": [
      {
       "cell_index": 4
      }
     ]
    },
    "75fb5e3d13ef41fd9ebf7d4cc1cb4d63": {
     "views": [
      {
       "cell_index": 4
      }
     ]
    },
    "760b491805a74b588d1d487104425f29": {
     "views": [
      {
       "cell_index": 4
      }
     ]
    },
    "77d5b012835448beb91ad14c8a22cbc2": {
     "views": [
      {
       "cell_index": 4
      }
     ]
    },
    "7aee34b47554445195a5e6faa1f9af37": {
     "views": [
      {
       "cell_index": 4
      }
     ]
    },
    "7bec5cc5eb0f4648936c60b9e4fcbb53": {
     "views": [
      {
       "cell_index": 4
      }
     ]
    },
    "7c1e3212e36f4419a602fb2d562a38d3": {
     "views": [
      {
       "cell_index": 4
      }
     ]
    },
    "7e401178cbbb428590440c363f78afca": {
     "views": [
      {
       "cell_index": 4
      }
     ]
    },
    "815dcd3d6ea5455092f0ac559715185f": {
     "views": [
      {
       "cell_index": 4
      }
     ]
    },
    "844f21ed5cf644479072fbb87755490e": {
     "views": [
      {
       "cell_index": 4
      }
     ]
    },
    "873073433dee483096423dd0cb823b63": {
     "views": [
      {
       "cell_index": 4
      }
     ]
    },
    "8afef464e5004ccca3abd655460ea144": {
     "views": [
      {
       "cell_index": 4
      }
     ]
    },
    "8b84811ad73046cba8123502b778b59f": {
     "views": [
      {
       "cell_index": 4
      }
     ]
    },
    "8ba8f0c943bf4c5e8aac4ec33f0e7dce": {
     "views": [
      {
       "cell_index": 4
      }
     ]
    },
    "8e33d578b0cf48c4a58a5bea93c9adc2": {
     "views": [
      {
       "cell_index": 4
      }
     ]
    },
    "90248302039040d090d86eca67794af7": {
     "views": [
      {
       "cell_index": 4
      }
     ]
    },
    "96c31cdfff764901a263add072a378e3": {
     "views": [
      {
       "cell_index": 4
      }
     ]
    },
    "98b046ef66b44a6785f45e407cf66775": {
     "views": [
      {
       "cell_index": 4
      }
     ]
    },
    "9d828e4329b84310aac0b12c63de1bc7": {
     "views": [
      {
       "cell_index": 4
      }
     ]
    },
    "9f59a8b50a4042ee98278179810c7e8c": {
     "views": [
      {
       "cell_index": 4
      }
     ]
    },
    "a0b2355a1000424ca79e27e59048b849": {
     "views": [
      {
       "cell_index": 4
      }
     ]
    },
    "a75076d8a2324660942e7d2e0f162f28": {
     "views": [
      {
       "cell_index": 4
      }
     ]
    },
    "a9344bbe6ac747aa97ec2f66eb4834de": {
     "views": [
      {
       "cell_index": 4
      }
     ]
    },
    "adbcbdbe339f4affa87f78e4fd4a2c9d": {
     "views": [
      {
       "cell_index": 4
      }
     ]
    },
    "b0d8be19733246e2b0378a8a087ea527": {
     "views": [
      {
       "cell_index": 4
      }
     ]
    },
    "b1be51e1878b47078897f50e30072b81": {
     "views": [
      {
       "cell_index": 4
      }
     ]
    },
    "b344b182196c4cca9143e00e5ea80d7c": {
     "views": [
      {
       "cell_index": 4
      }
     ]
    },
    "b66d173a346b4f12b11727a4edb7eb0b": {
     "views": [
      {
       "cell_index": 4
      }
     ]
    },
    "b69ac3df58e04d97b62047291fb2a23e": {
     "views": [
      {
       "cell_index": 4
      }
     ]
    },
    "b940111b0962494699d4adf0029da758": {
     "views": [
      {
       "cell_index": 4
      }
     ]
    },
    "bbe3dc82b2d44c1db2d24f677bfa89c6": {
     "views": [
      {
       "cell_index": 4
      }
     ]
    },
    "bcb81bb04bc84d4eaf8b0ef7097b2af7": {
     "views": [
      {
       "cell_index": 4
      }
     ]
    },
    "c0fd40fca7a646a5b77637005dfa4c72": {
     "views": [
      {
       "cell_index": 4
      }
     ]
    },
    "c22e01c115fc4f57a70782664cbd77be": {
     "views": [
      {
       "cell_index": 4
      }
     ]
    },
    "c4c0b97d5d8a42069a54e3ad9f401fbf": {
     "views": [
      {
       "cell_index": 4
      }
     ]
    },
    "c98587e77a4144de9844173bc087c48c": {
     "views": [
      {
       "cell_index": 4
      }
     ]
    },
    "cba2eb2b6f074f149ed4c1c44acd8101": {
     "views": [
      {
       "cell_index": 4
      }
     ]
    },
    "d2d7aff198b041de8b955ae617130b8f": {
     "views": [
      {
       "cell_index": 4
      }
     ]
    },
    "d36fbc68f7964e7c8184ecc9593f5725": {
     "views": [
      {
       "cell_index": 4
      }
     ]
    },
    "d5ea3b0df1114fb79310a7c4d52753ba": {
     "views": [
      {
       "cell_index": 4
      }
     ]
    },
    "d83da672f23c4f34a343b183b2a2688b": {
     "views": [
      {
       "cell_index": 4
      }
     ]
    },
    "dc57cbf8ac22494e822e1c5cabc6c845": {
     "views": [
      {
       "cell_index": 4
      }
     ]
    },
    "df01896cd712480282005a11e7482a1c": {
     "views": [
      {
       "cell_index": 4
      }
     ]
    },
    "df1530ad4a574ac4aee92fcabc0f05d8": {
     "views": [
      {
       "cell_index": 4
      }
     ]
    },
    "e2c6b641df3e465e802a389af31bca4e": {
     "views": [
      {
       "cell_index": 4
      }
     ]
    },
    "e2fb017230774502bb6ef18d6f4c57b6": {
     "views": [
      {
       "cell_index": 4
      }
     ]
    },
    "e4b491f03592433b8c45f9a6fe7f4189": {
     "views": [
      {
       "cell_index": 4
      }
     ]
    },
    "e4e1fa4cb1fd4654a5739ba59d5ed7ff": {
     "views": [
      {
       "cell_index": 4
      }
     ]
    },
    "e56162e5bb694810bf19fa6c5a4307f5": {
     "views": [
      {
       "cell_index": 4
      }
     ]
    },
    "e6534db0de60459ca55525195633c098": {
     "views": [
      {
       "cell_index": 4
      }
     ]
    },
    "e6680d954c95460d82c4d1e0b604ca86": {
     "views": [
      {
       "cell_index": 4
      }
     ]
    },
    "e739bdb091504239a14e8fe09cb34067": {
     "views": [
      {
       "cell_index": 4
      }
     ]
    },
    "e800c73d45234fbdb15a8e43dc0f9b29": {
     "views": [
      {
       "cell_index": 4
      }
     ]
    },
    "e836e4a9d4844ae4905466a0a1ef6639": {
     "views": [
      {
       "cell_index": 4
      }
     ]
    },
    "e927f564f7cb42449ae6f94803719058": {
     "views": [
      {
       "cell_index": 4
      }
     ]
    },
    "ebe09afce9a44b019fddf02ba4dcbe49": {
     "views": [
      {
       "cell_index": 4
      }
     ]
    },
    "f1ade692b0b0469abe53c39f17a425da": {
     "views": [
      {
       "cell_index": 4
      }
     ]
    },
    "f3361f7f483d4da088d971bb9140e259": {
     "views": [
      {
       "cell_index": 4
      }
     ]
    },
    "f79b8e75840e41488b21ab5c2b112c62": {
     "views": [
      {
       "cell_index": 4
      }
     ]
    },
    "fb684c743bd5499f929a1c80b920b793": {
     "views": [
      {
       "cell_index": 4
      }
     ]
    },
    "fb9439dc7f21445aaafae4e879a476c1": {
     "views": [
      {
       "cell_index": 4
      }
     ]
    },
    "fd90cdcca53a4a32a4517c6fa10533a6": {
     "views": [
      {
       "cell_index": 4
      }
     ]
    },
    "ff14d732d92444be9b0eaf54abc1694d": {
     "views": [
      {
       "cell_index": 4
      }
     ]
    },
    "ffddfb8902fd44319a5ab1401e6b1f94": {
     "views": [
      {
       "cell_index": 4
      }
     ]
    }
   },
   "version": "1.2.0"
  }
 },
 "nbformat": 4,
 "nbformat_minor": 0
}
